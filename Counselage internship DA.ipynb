{
 "cells": [
  {
   "cell_type": "code",
   "execution_count": 48,
   "id": "f049d319",
   "metadata": {},
   "outputs": [],
   "source": [
    "import pandas as pd"
   ]
  },
  {
   "cell_type": "code",
   "execution_count": 49,
   "id": "21f003c7",
   "metadata": {},
   "outputs": [
    {
     "data": {
      "text/html": [
       "<div>\n",
       "<style scoped>\n",
       "    .dataframe tbody tr th:only-of-type {\n",
       "        vertical-align: middle;\n",
       "    }\n",
       "\n",
       "    .dataframe tbody tr th {\n",
       "        vertical-align: top;\n",
       "    }\n",
       "\n",
       "    .dataframe thead th {\n",
       "        text-align: right;\n",
       "    }\n",
       "</style>\n",
       "<table border=\"1\" class=\"dataframe\">\n",
       "  <thead>\n",
       "    <tr style=\"text-align: right;\">\n",
       "      <th></th>\n",
       "      <th>First Name</th>\n",
       "      <th>Email ID</th>\n",
       "      <th>Quantity</th>\n",
       "      <th>Events</th>\n",
       "      <th>Attendee Status</th>\n",
       "      <th>College Name</th>\n",
       "      <th>How did you come to know about this event?</th>\n",
       "      <th>Specify in \"Others\" (how did you come to know about this event)</th>\n",
       "      <th>Designation</th>\n",
       "      <th>Year of Graduation</th>\n",
       "      <th>City</th>\n",
       "      <th>CGPA</th>\n",
       "      <th>Experience with python (Months)</th>\n",
       "      <th>Family Income</th>\n",
       "      <th>Expected salary (Lac)</th>\n",
       "      <th>Leadership- skills</th>\n",
       "    </tr>\n",
       "  </thead>\n",
       "  <tbody>\n",
       "    <tr>\n",
       "      <th>0</th>\n",
       "      <td>ANIKET</td>\n",
       "      <td>aniket@xyz.com</td>\n",
       "      <td>1</td>\n",
       "      <td>Art of Resume Building</td>\n",
       "      <td>Attending</td>\n",
       "      <td>D Y PATIL INSTITUTE OF MCA AND MANAGEMENT AKUR...</td>\n",
       "      <td>Email</td>\n",
       "      <td>NaN</td>\n",
       "      <td>Students</td>\n",
       "      <td>2024</td>\n",
       "      <td>Patna</td>\n",
       "      <td>6.7</td>\n",
       "      <td>7</td>\n",
       "      <td>7 Lakh+</td>\n",
       "      <td>6</td>\n",
       "      <td>yes</td>\n",
       "    </tr>\n",
       "    <tr>\n",
       "      <th>1</th>\n",
       "      <td>Dhanshree</td>\n",
       "      <td>dhanshree@xyz.com</td>\n",
       "      <td>1</td>\n",
       "      <td>Art of Resume Building</td>\n",
       "      <td>Attending</td>\n",
       "      <td>AP SHAH INSTITUTE OF TECHNOLOGY</td>\n",
       "      <td>Others</td>\n",
       "      <td>College</td>\n",
       "      <td>Students</td>\n",
       "      <td>2024</td>\n",
       "      <td>Amravati</td>\n",
       "      <td>8.2</td>\n",
       "      <td>3</td>\n",
       "      <td>0-2 Lakh</td>\n",
       "      <td>7</td>\n",
       "      <td>no</td>\n",
       "    </tr>\n",
       "    <tr>\n",
       "      <th>2</th>\n",
       "      <td>Dhiraj</td>\n",
       "      <td>dhiraj@xyz.com</td>\n",
       "      <td>1</td>\n",
       "      <td>Art of Resume Building</td>\n",
       "      <td>Attending</td>\n",
       "      <td>Don Bosco College of Engineering Fatorda Goa</td>\n",
       "      <td>Email</td>\n",
       "      <td>NaN</td>\n",
       "      <td>Students</td>\n",
       "      <td>2023</td>\n",
       "      <td>Kunrool</td>\n",
       "      <td>6.5</td>\n",
       "      <td>4</td>\n",
       "      <td>5-7 Lakh</td>\n",
       "      <td>7</td>\n",
       "      <td>no</td>\n",
       "    </tr>\n",
       "    <tr>\n",
       "      <th>3</th>\n",
       "      <td>Pooja</td>\n",
       "      <td>pooja@xyz.com</td>\n",
       "      <td>1</td>\n",
       "      <td>Art of Resume Building</td>\n",
       "      <td>Attending</td>\n",
       "      <td>Pillai College of Engineering New Panvel</td>\n",
       "      <td>Email</td>\n",
       "      <td>NaN</td>\n",
       "      <td>Students</td>\n",
       "      <td>2025</td>\n",
       "      <td>Tirupati</td>\n",
       "      <td>8.7</td>\n",
       "      <td>7</td>\n",
       "      <td>2-5 Lakh</td>\n",
       "      <td>8</td>\n",
       "      <td>no</td>\n",
       "    </tr>\n",
       "    <tr>\n",
       "      <th>4</th>\n",
       "      <td>Aayush</td>\n",
       "      <td>aayush@xyz.com</td>\n",
       "      <td>1</td>\n",
       "      <td>Art of Resume Building</td>\n",
       "      <td>Attending</td>\n",
       "      <td>St Xavier's College</td>\n",
       "      <td>Instagram | LinkedIn | Cloud Counselage Website</td>\n",
       "      <td>NaN</td>\n",
       "      <td>Students</td>\n",
       "      <td>2024</td>\n",
       "      <td>Vijaywada</td>\n",
       "      <td>9.1</td>\n",
       "      <td>3</td>\n",
       "      <td>0-2 Lakh</td>\n",
       "      <td>10</td>\n",
       "      <td>yes</td>\n",
       "    </tr>\n",
       "  </tbody>\n",
       "</table>\n",
       "</div>"
      ],
      "text/plain": [
       "  First Name           Email ID  Quantity                  Events  \\\n",
       "0     ANIKET     aniket@xyz.com         1  Art of Resume Building   \n",
       "1  Dhanshree  dhanshree@xyz.com         1  Art of Resume Building   \n",
       "2     Dhiraj     dhiraj@xyz.com         1  Art of Resume Building   \n",
       "3      Pooja      pooja@xyz.com         1  Art of Resume Building   \n",
       "4     Aayush     aayush@xyz.com         1  Art of Resume Building   \n",
       "\n",
       "  Attendee Status                                       College Name  \\\n",
       "0       Attending  D Y PATIL INSTITUTE OF MCA AND MANAGEMENT AKUR...   \n",
       "1       Attending                   AP SHAH INSTITUTE OF TECHNOLOGY    \n",
       "2       Attending       Don Bosco College of Engineering Fatorda Goa   \n",
       "3       Attending           Pillai College of Engineering New Panvel   \n",
       "4       Attending                               St Xavier's College    \n",
       "\n",
       "        How did you come to know about this event?  \\\n",
       "0                                            Email   \n",
       "1                                           Others   \n",
       "2                                            Email   \n",
       "3                                            Email   \n",
       "4  Instagram | LinkedIn | Cloud Counselage Website   \n",
       "\n",
       "  Specify in \"Others\" (how did you come to know about this event) Designation  \\\n",
       "0                                                NaN                 Students   \n",
       "1                                            College                 Students   \n",
       "2                                                NaN                 Students   \n",
       "3                                                NaN                 Students   \n",
       "4                                                NaN                 Students   \n",
       "\n",
       "   Year of Graduation       City  CGPA  Experience with python (Months)  \\\n",
       "0                2024      Patna   6.7                                7   \n",
       "1                2024   Amravati   8.2                                3   \n",
       "2                2023    Kunrool   6.5                                4   \n",
       "3                2025   Tirupati   8.7                                7   \n",
       "4                2024  Vijaywada   9.1                                3   \n",
       "\n",
       "  Family Income  Expected salary (Lac) Leadership- skills  \n",
       "0       7 Lakh+                      6                yes  \n",
       "1      0-2 Lakh                      7                 no  \n",
       "2      5-7 Lakh                      7                 no  \n",
       "3      2-5 Lakh                      8                 no  \n",
       "4      0-2 Lakh                     10                yes  "
      ]
     },
     "execution_count": 49,
     "metadata": {},
     "output_type": "execute_result"
    }
   ],
   "source": [
    "df=pd.read_csv(\"Data analyst Data.csv\")\n",
    "df.head()"
   ]
  },
  {
   "cell_type": "markdown",
   "id": "4ac3bc6e",
   "metadata": {},
   "source": [
    "## Exploration and data cleaning"
   ]
  },
  {
   "cell_type": "code",
   "execution_count": 50,
   "id": "102e322e",
   "metadata": {},
   "outputs": [
    {
     "data": {
      "text/html": [
       "<div>\n",
       "<style scoped>\n",
       "    .dataframe tbody tr th:only-of-type {\n",
       "        vertical-align: middle;\n",
       "    }\n",
       "\n",
       "    .dataframe tbody tr th {\n",
       "        vertical-align: top;\n",
       "    }\n",
       "\n",
       "    .dataframe thead th {\n",
       "        text-align: right;\n",
       "    }\n",
       "</style>\n",
       "<table border=\"1\" class=\"dataframe\">\n",
       "  <thead>\n",
       "    <tr style=\"text-align: right;\">\n",
       "      <th></th>\n",
       "      <th>Quantity</th>\n",
       "      <th>Year of Graduation</th>\n",
       "      <th>CGPA</th>\n",
       "      <th>Experience with python (Months)</th>\n",
       "      <th>Expected salary (Lac)</th>\n",
       "    </tr>\n",
       "  </thead>\n",
       "  <tbody>\n",
       "    <tr>\n",
       "      <th>count</th>\n",
       "      <td>4894.0</td>\n",
       "      <td>4894.000000</td>\n",
       "      <td>4894.000000</td>\n",
       "      <td>4894.000000</td>\n",
       "      <td>4894.000000</td>\n",
       "    </tr>\n",
       "    <tr>\n",
       "      <th>mean</th>\n",
       "      <td>1.0</td>\n",
       "      <td>2024.176951</td>\n",
       "      <td>8.038476</td>\n",
       "      <td>5.395586</td>\n",
       "      <td>13.935635</td>\n",
       "    </tr>\n",
       "    <tr>\n",
       "      <th>std</th>\n",
       "      <td>0.0</td>\n",
       "      <td>1.000180</td>\n",
       "      <td>1.005184</td>\n",
       "      <td>1.705364</td>\n",
       "      <td>6.451959</td>\n",
       "    </tr>\n",
       "    <tr>\n",
       "      <th>min</th>\n",
       "      <td>1.0</td>\n",
       "      <td>2023.000000</td>\n",
       "      <td>6.200000</td>\n",
       "      <td>3.000000</td>\n",
       "      <td>5.000000</td>\n",
       "    </tr>\n",
       "    <tr>\n",
       "      <th>25%</th>\n",
       "      <td>1.0</td>\n",
       "      <td>2023.000000</td>\n",
       "      <td>7.200000</td>\n",
       "      <td>4.000000</td>\n",
       "      <td>8.000000</td>\n",
       "    </tr>\n",
       "    <tr>\n",
       "      <th>50%</th>\n",
       "      <td>1.0</td>\n",
       "      <td>2024.000000</td>\n",
       "      <td>7.900000</td>\n",
       "      <td>5.000000</td>\n",
       "      <td>13.000000</td>\n",
       "    </tr>\n",
       "    <tr>\n",
       "      <th>75%</th>\n",
       "      <td>1.0</td>\n",
       "      <td>2025.000000</td>\n",
       "      <td>8.900000</td>\n",
       "      <td>7.000000</td>\n",
       "      <td>19.000000</td>\n",
       "    </tr>\n",
       "    <tr>\n",
       "      <th>max</th>\n",
       "      <td>1.0</td>\n",
       "      <td>2026.000000</td>\n",
       "      <td>9.900000</td>\n",
       "      <td>8.000000</td>\n",
       "      <td>35.000000</td>\n",
       "    </tr>\n",
       "  </tbody>\n",
       "</table>\n",
       "</div>"
      ],
      "text/plain": [
       "       Quantity  Year of Graduation         CGPA  \\\n",
       "count    4894.0         4894.000000  4894.000000   \n",
       "mean        1.0         2024.176951     8.038476   \n",
       "std         0.0            1.000180     1.005184   \n",
       "min         1.0         2023.000000     6.200000   \n",
       "25%         1.0         2023.000000     7.200000   \n",
       "50%         1.0         2024.000000     7.900000   \n",
       "75%         1.0         2025.000000     8.900000   \n",
       "max         1.0         2026.000000     9.900000   \n",
       "\n",
       "       Experience with python (Months)  Expected salary (Lac)  \n",
       "count                      4894.000000            4894.000000  \n",
       "mean                          5.395586              13.935635  \n",
       "std                           1.705364               6.451959  \n",
       "min                           3.000000               5.000000  \n",
       "25%                           4.000000               8.000000  \n",
       "50%                           5.000000              13.000000  \n",
       "75%                           7.000000              19.000000  \n",
       "max                           8.000000              35.000000  "
      ]
     },
     "execution_count": 50,
     "metadata": {},
     "output_type": "execute_result"
    }
   ],
   "source": [
    "df.describe()"
   ]
  },
  {
   "cell_type": "code",
   "execution_count": 51,
   "id": "866c2b01",
   "metadata": {},
   "outputs": [
    {
     "data": {
      "text/plain": [
       "Index(['First Name', 'Email ID', 'Quantity', 'Events', 'Attendee Status',\n",
       "       'College Name', 'How did you come to know about this event?',\n",
       "       'Specify in \"Others\" (how did you come to know about this event)',\n",
       "       'Designation', 'Year of Graduation', 'City', 'CGPA',\n",
       "       'Experience with python (Months)', 'Family Income',\n",
       "       'Expected salary (Lac)', 'Leadership- skills'],\n",
       "      dtype='object')"
      ]
     },
     "execution_count": 51,
     "metadata": {},
     "output_type": "execute_result"
    }
   ],
   "source": [
    "df.columns"
   ]
  },
  {
   "cell_type": "code",
   "execution_count": 52,
   "id": "5aeb0e95",
   "metadata": {},
   "outputs": [
    {
     "data": {
      "text/plain": [
       "First Name                                                            0\n",
       "Email ID                                                              0\n",
       "Quantity                                                              0\n",
       "Events                                                                0\n",
       "Attendee Status                                                       0\n",
       "College Name                                                         15\n",
       "How did you come to know about this event?                         2216\n",
       "Specify in \"Others\" (how did you come to know about this event)    4805\n",
       "Designation                                                           0\n",
       "Year of Graduation                                                    0\n",
       "City                                                                  0\n",
       "CGPA                                                                  0\n",
       "Experience with python (Months)                                       0\n",
       "Family Income                                                         0\n",
       "Expected salary (Lac)                                                 0\n",
       "Leadership- skills                                                    0\n",
       "dtype: int64"
      ]
     },
     "execution_count": 52,
     "metadata": {},
     "output_type": "execute_result"
    }
   ],
   "source": [
    "df.isnull().sum()"
   ]
  },
  {
   "cell_type": "code",
   "execution_count": 53,
   "id": "713ab73c",
   "metadata": {},
   "outputs": [
    {
     "data": {
      "text/plain": [
       "priyadarshini college of engineering, nagpur                                         261\n",
       "vidyalankar institute of technology, mumbai                                          258\n",
       "ld college of engineering, ahmedabad, gujarat                                        248\n",
       "government polytechnic gandhinagar                                                   206\n",
       "b. k. birla college of arts, science & commerce (autonomous), kalyan                 206\n",
       "kle society's college of bca, rls institute, belagavi                                189\n",
       "vishwakarma institute of technology, pune                                            186\n",
       "g h raisoni institut of engineering and technology pune                              184\n",
       "dkte society's textile and engineering institute ichalkaranji                        182\n",
       "wilson college                                                                       181\n",
       "a. c. patil college of engineering                                                   181\n",
       "mit academy of engineering ,alandi                                                   163\n",
       "new horizon institute of technology and management                                   144\n",
       "st.francis institute of technology                                                   144\n",
       "symbiosis institute of technology, pune                                              143\n",
       "late g. n. sapkal college of engineering                                             143\n",
       "pillai college of engineering new panvel                                             142\n",
       "don bosco college of engineering fatorda goa                                         142\n",
       "st xavier's college                                                                  138\n",
       "silicon institute of technology                                                      122\n",
       "adhiyamaan college of engineering                                                    122\n",
       "chhattisgarh swami vivekananda technical university teaching department bhilai       122\n",
       "lokmanya tilak college of engineering koparkhairane navi mumbai                       81\n",
       "s.i.e.s. graduate school of technology, nerul, navi mumbai                            68\n",
       "thakur institute of management studies, career development & research - [timscdr]     65\n",
       "Priyadarshini college of engineering, Nagpur                                          51\n",
       "Vidyalankar Institute of Technology, Mumbai                                           51\n",
       "LD College of engineering, Ahmedabad, Gujarat                                         50\n",
       "GOVERNMENT POLYTECHNIC GANDHINAGAR                                                    40\n",
       "B. K. Birla College of Arts, Science & Commerce (Autonomous), Kalyan                  39\n",
       "G H Raisoni institut of engineering and technology pune                               38\n",
       "KLE Society's College of BCA, RLS Institute, Belagavi                                 37\n",
       "DKTE Society's Textile And Engineering Institute Ichalkaranji                         37\n",
       "Wilson college                                                                        37\n",
       "A. C. Patil College of Engineering                                                    37\n",
       "Vishwakarma Institute of Technology, Pune                                             36\n",
       "MIT Academy Of Engineering ,Alandi                                                    34\n",
       "New horizon institute of Technology and Management                                    29\n",
       "Late G. N. Sapkal College Of Engineering                                              29\n",
       "Symbiosis Institute of Technology, Pune                                               29\n",
       "Pillai College of Engineering New Panvel                                              28\n",
       "St.Francis Institute of Technology                                                    28\n",
       "Don Bosco College of Engineering Fatorda Goa                                          28\n",
       "St Xavier's College                                                                   28\n",
       "Silicon Institute of Technology                                                       22\n",
       "CHHATTISGARH SWAMI VIVEKANANDA TECHNICAL UNIVERSITY TEACHING DEPARTMENT BHILAI        22\n",
       "ADHIYAMAAN COLLEGE OF ENGINEERING                                                     22\n",
       "d y patil institute of mca and management akurdi pune                                 20\n",
       "ap shah institute of technology                                                       20\n",
       "LOKMANYA TILAK COLLEGE OF ENGINEERING KOPARKHAIRANE NAVI MUMBAI                       18\n",
       "S.I.E.S. Graduate School Of Technology, Nerul, Navi Mumbai                            16\n",
       "THAKUR INSTITUTE OF MANAGEMENT STUDIES, CAREER DEVELOPMENT & RESEARCH - [TIMSCDR]     14\n",
       "D Y PATIL INSTITUTE OF MCA AND MANAGEMENT AKURDI PUNE                                  6\n",
       "AP SHAH INSTITUTE OF TECHNOLOGY                                                        6\n",
       "na                                                                                     6\n",
       "Name: College Name, dtype: int64"
      ]
     },
     "execution_count": 53,
     "metadata": {},
     "output_type": "execute_result"
    }
   ],
   "source": [
    "df['College Name'].value_counts()"
   ]
  },
  {
   "cell_type": "code",
   "execution_count": 54,
   "id": "d160abb7",
   "metadata": {},
   "outputs": [
    {
     "data": {
      "text/plain": [
       "Whatsapp                                                                                       1067\n",
       "Email                                                                                           438\n",
       "SPOC/ College Professor                                                                         326\n",
       "Others                                                                                          153\n",
       "Cloud Counselage Website                                                                        129\n",
       "                                                                                               ... \n",
       "Youtube | Instagram | Whatsapp | Email                                                            1\n",
       "LinkedIn | Email | Telegram                                                                       1\n",
       "Youtube | Email | Others                                                                          1\n",
       "Youtube | Facebook | Instagram | LinkedIn | Whatsapp | Email | Telegram | Friend/ Classmate       1\n",
       "Youtube | Whatsapp | Cloud Counselage Website                                                     1\n",
       "Name: How did you come to know about this event?, Length: 99, dtype: int64"
      ]
     },
     "execution_count": 54,
     "metadata": {},
     "output_type": "execute_result"
    }
   ],
   "source": [
    "df['How did you come to know about this event?'].value_counts()"
   ]
  },
  {
   "cell_type": "code",
   "execution_count": 55,
   "id": "38b2d6a9",
   "metadata": {},
   "outputs": [
    {
     "data": {
      "text/plain": [
       "College                71\n",
       "Friends                 7\n",
       "Interested              2\n",
       "Attend                  2\n",
       "Telegram                1\n",
       "Team entity             1\n",
       "You tube                1\n",
       "Twitter                 1\n",
       "Yuva Sena/Shiv Sena     1\n",
       "Institute               1\n",
       "From Academy            1\n",
       "Name: Specify in \"Others\" (how did you come to know about this event), dtype: int64"
      ]
     },
     "execution_count": 55,
     "metadata": {},
     "output_type": "execute_result"
    }
   ],
   "source": [
    "df['Specify in \"Others\" (how did you come to know about this event)'].value_counts()"
   ]
  },
  {
   "cell_type": "markdown",
   "id": "65ae9bef",
   "metadata": {},
   "source": [
    "### Since 2 cols have signicficant data to be dropped, we will fill the NAs with mode."
   ]
  },
  {
   "cell_type": "code",
   "execution_count": 56,
   "id": "698c9e99",
   "metadata": {},
   "outputs": [],
   "source": [
    "import numpy as np\n",
    "# df['College Name'].drop(np.nan,axis=0,inplace=True)\n",
    "df['How did you come to know about this event?'].replace(np.nan, 'Whatsapp', inplace=True)\n",
    "df['Specify in \"Others\" (how did you come to know about this event)'].replace(np.nan, 'College', inplace=True)"
   ]
  },
  {
   "cell_type": "code",
   "execution_count": 57,
   "id": "87d64830",
   "metadata": {},
   "outputs": [
    {
     "data": {
      "text/plain": [
       "First Name                                                          0\n",
       "Email ID                                                            0\n",
       "Quantity                                                            0\n",
       "Events                                                              0\n",
       "Attendee Status                                                     0\n",
       "College Name                                                       15\n",
       "How did you come to know about this event?                          0\n",
       "Specify in \"Others\" (how did you come to know about this event)     0\n",
       "Designation                                                         0\n",
       "Year of Graduation                                                  0\n",
       "City                                                                0\n",
       "CGPA                                                                0\n",
       "Experience with python (Months)                                     0\n",
       "Family Income                                                       0\n",
       "Expected salary (Lac)                                               0\n",
       "Leadership- skills                                                  0\n",
       "dtype: int64"
      ]
     },
     "execution_count": 57,
     "metadata": {},
     "output_type": "execute_result"
    }
   ],
   "source": [
    "df.isnull().sum()"
   ]
  },
  {
   "cell_type": "code",
   "execution_count": 58,
   "id": "bebf2316",
   "metadata": {},
   "outputs": [],
   "source": [
    "df.replace('NA',np.nan)\n",
    "df.replace('NaN',np.nan)\n",
    "df.dropna(inplace=True)"
   ]
  },
  {
   "cell_type": "code",
   "execution_count": 59,
   "id": "5c561279",
   "metadata": {},
   "outputs": [
    {
     "data": {
      "text/plain": [
       "First Name                                                         0\n",
       "Email ID                                                           0\n",
       "Quantity                                                           0\n",
       "Events                                                             0\n",
       "Attendee Status                                                    0\n",
       "College Name                                                       0\n",
       "How did you come to know about this event?                         0\n",
       "Specify in \"Others\" (how did you come to know about this event)    0\n",
       "Designation                                                        0\n",
       "Year of Graduation                                                 0\n",
       "City                                                               0\n",
       "CGPA                                                               0\n",
       "Experience with python (Months)                                    0\n",
       "Family Income                                                      0\n",
       "Expected salary (Lac)                                              0\n",
       "Leadership- skills                                                 0\n",
       "dtype: int64"
      ]
     },
     "execution_count": 59,
     "metadata": {},
     "output_type": "execute_result"
    }
   ],
   "source": [
    "df.isnull().sum()"
   ]
  },
  {
   "cell_type": "markdown",
   "id": "4c6f6c91",
   "metadata": {},
   "source": [
    "#### Data has been cleaned successfully!"
   ]
  },
  {
   "cell_type": "code",
   "execution_count": 60,
   "id": "6252dc07",
   "metadata": {},
   "outputs": [
    {
     "data": {
      "text/html": [
       "<div>\n",
       "<style scoped>\n",
       "    .dataframe tbody tr th:only-of-type {\n",
       "        vertical-align: middle;\n",
       "    }\n",
       "\n",
       "    .dataframe tbody tr th {\n",
       "        vertical-align: top;\n",
       "    }\n",
       "\n",
       "    .dataframe thead th {\n",
       "        text-align: right;\n",
       "    }\n",
       "</style>\n",
       "<table border=\"1\" class=\"dataframe\">\n",
       "  <thead>\n",
       "    <tr style=\"text-align: right;\">\n",
       "      <th></th>\n",
       "      <th>Quantity</th>\n",
       "      <th>Year of Graduation</th>\n",
       "      <th>CGPA</th>\n",
       "      <th>Experience with python (Months)</th>\n",
       "      <th>Expected salary (Lac)</th>\n",
       "    </tr>\n",
       "  </thead>\n",
       "  <tbody>\n",
       "    <tr>\n",
       "      <th>count</th>\n",
       "      <td>4879.0</td>\n",
       "      <td>4879.000000</td>\n",
       "      <td>4879.000000</td>\n",
       "      <td>4879.000000</td>\n",
       "      <td>4879.000000</td>\n",
       "    </tr>\n",
       "    <tr>\n",
       "      <th>mean</th>\n",
       "      <td>1.0</td>\n",
       "      <td>2024.177700</td>\n",
       "      <td>8.038287</td>\n",
       "      <td>5.395368</td>\n",
       "      <td>13.941996</td>\n",
       "    </tr>\n",
       "    <tr>\n",
       "      <th>std</th>\n",
       "      <td>0.0</td>\n",
       "      <td>1.000301</td>\n",
       "      <td>1.005612</td>\n",
       "      <td>1.705833</td>\n",
       "      <td>6.455013</td>\n",
       "    </tr>\n",
       "    <tr>\n",
       "      <th>min</th>\n",
       "      <td>1.0</td>\n",
       "      <td>2023.000000</td>\n",
       "      <td>6.200000</td>\n",
       "      <td>3.000000</td>\n",
       "      <td>5.000000</td>\n",
       "    </tr>\n",
       "    <tr>\n",
       "      <th>25%</th>\n",
       "      <td>1.0</td>\n",
       "      <td>2023.000000</td>\n",
       "      <td>7.200000</td>\n",
       "      <td>4.000000</td>\n",
       "      <td>8.000000</td>\n",
       "    </tr>\n",
       "    <tr>\n",
       "      <th>50%</th>\n",
       "      <td>1.0</td>\n",
       "      <td>2024.000000</td>\n",
       "      <td>7.900000</td>\n",
       "      <td>5.000000</td>\n",
       "      <td>13.000000</td>\n",
       "    </tr>\n",
       "    <tr>\n",
       "      <th>75%</th>\n",
       "      <td>1.0</td>\n",
       "      <td>2025.000000</td>\n",
       "      <td>8.900000</td>\n",
       "      <td>7.000000</td>\n",
       "      <td>19.000000</td>\n",
       "    </tr>\n",
       "    <tr>\n",
       "      <th>max</th>\n",
       "      <td>1.0</td>\n",
       "      <td>2026.000000</td>\n",
       "      <td>9.900000</td>\n",
       "      <td>8.000000</td>\n",
       "      <td>35.000000</td>\n",
       "    </tr>\n",
       "  </tbody>\n",
       "</table>\n",
       "</div>"
      ],
      "text/plain": [
       "       Quantity  Year of Graduation         CGPA  \\\n",
       "count    4879.0         4879.000000  4879.000000   \n",
       "mean        1.0         2024.177700     8.038287   \n",
       "std         0.0            1.000301     1.005612   \n",
       "min         1.0         2023.000000     6.200000   \n",
       "25%         1.0         2023.000000     7.200000   \n",
       "50%         1.0         2024.000000     7.900000   \n",
       "75%         1.0         2025.000000     8.900000   \n",
       "max         1.0         2026.000000     9.900000   \n",
       "\n",
       "       Experience with python (Months)  Expected salary (Lac)  \n",
       "count                      4879.000000            4879.000000  \n",
       "mean                          5.395368              13.941996  \n",
       "std                           1.705833               6.455013  \n",
       "min                           3.000000               5.000000  \n",
       "25%                           4.000000               8.000000  \n",
       "50%                           5.000000              13.000000  \n",
       "75%                           7.000000              19.000000  \n",
       "max                           8.000000              35.000000  "
      ]
     },
     "execution_count": 60,
     "metadata": {},
     "output_type": "execute_result"
    }
   ],
   "source": [
    "df.describe()"
   ]
  },
  {
   "cell_type": "code",
   "execution_count": 61,
   "id": "ceebdc1c",
   "metadata": {},
   "outputs": [
    {
     "data": {
      "text/plain": [
       "Index(['First Name', 'Email ID', 'Quantity', 'Events', 'Attendee Status',\n",
       "       'College Name', 'How did you come to know about this event?',\n",
       "       'Specify in \"Others\" (how did you come to know about this event)',\n",
       "       'Designation', 'Year of Graduation', 'City', 'CGPA',\n",
       "       'Experience with python (Months)', 'Family Income',\n",
       "       'Expected salary (Lac)', 'Leadership- skills'],\n",
       "      dtype='object')"
      ]
     },
     "execution_count": 61,
     "metadata": {},
     "output_type": "execute_result"
    }
   ],
   "source": [
    "df.columns"
   ]
  },
  {
   "cell_type": "code",
   "execution_count": 62,
   "id": "fb163ad6",
   "metadata": {},
   "outputs": [
    {
     "data": {
      "text/plain": [
       "(4879, 16)"
      ]
     },
     "execution_count": 62,
     "metadata": {},
     "output_type": "execute_result"
    }
   ],
   "source": [
    "df.shape"
   ]
  },
  {
   "cell_type": "markdown",
   "id": "76d3d56e",
   "metadata": {},
   "source": [
    "## Question 1: How many unique students present in dataset?"
   ]
  },
  {
   "cell_type": "code",
   "execution_count": 63,
   "id": "fa8f6cb7",
   "metadata": {},
   "outputs": [
    {
     "data": {
      "text/plain": [
       "Patel         41\n",
       "John          37\n",
       "James         36\n",
       "Robert        31\n",
       "William       24\n",
       "              ..\n",
       "Ruchira        1\n",
       "LENIN          1\n",
       "Yashashree     1\n",
       "Ashfaque       1\n",
       "Lankesh        1\n",
       "Name: First Name, Length: 2316, dtype: int64"
      ]
     },
     "execution_count": 63,
     "metadata": {},
     "output_type": "execute_result"
    }
   ],
   "source": [
    "df['First Name'].value_counts()"
   ]
  },
  {
   "cell_type": "markdown",
   "id": "e84e6c50",
   "metadata": {},
   "source": [
    "- There are *2316* unique students"
   ]
  },
  {
   "cell_type": "markdown",
   "id": "4611c54e",
   "metadata": {},
   "source": [
    "## Question 2: Average CGPA of students present in dataset?"
   ]
  },
  {
   "cell_type": "code",
   "execution_count": 64,
   "id": "06dd3b09",
   "metadata": {},
   "outputs": [
    {
     "name": "stdout",
     "output_type": "stream",
     "text": [
      "Avg CGPA:  8.038286534125847\n"
     ]
    }
   ],
   "source": [
    "print('Avg CGPA: ', df['CGPA'].mean())"
   ]
  },
  {
   "cell_type": "markdown",
   "id": "eadb7584",
   "metadata": {},
   "source": [
    "## Question 3: Distribution of students across different years?"
   ]
  },
  {
   "cell_type": "code",
   "execution_count": 65,
   "id": "75662d21",
   "metadata": {},
   "outputs": [
    {
     "name": "stderr",
     "output_type": "stream",
     "text": [
      "C:\\Users\\karth\\AppData\\Local\\Temp\\ipykernel_568\\3832383878.py:4: UserWarning: \n",
      "\n",
      "`distplot` is a deprecated function and will be removed in seaborn v0.14.0.\n",
      "\n",
      "Please adapt your code to use either `displot` (a figure-level function with\n",
      "similar flexibility) or `histplot` (an axes-level function for histograms).\n",
      "\n",
      "For a guide to updating your code to use the new functions, please see\n",
      "https://gist.github.com/mwaskom/de44147ed2974457ad6372750bbe5751\n",
      "\n",
      "  sn.distplot(df['Year of Graduation'])\n"
     ]
    },
    {
     "data": {
      "text/plain": [
       "<Axes: xlabel='Year of Graduation', ylabel='Density'>"
      ]
     },
     "execution_count": 65,
     "metadata": {},
     "output_type": "execute_result"
    },
    {
     "data": {
      "image/png": "[encoded data removed]",
      "text/plain": [
       "<Figure size 640x480 with 1 Axes>"
      ]
     },
     "metadata": {},
     "output_type": "display_data"
    }
   ],
   "source": [
    "df.columns\n",
    "import matplotlib.pyplot as plt\n",
    "import seaborn as sn\n",
    "sn.distplot(df['Year of Graduation'])"
   ]
  },
  {
   "cell_type": "markdown",
   "id": "6f423b0e",
   "metadata": {},
   "source": [
    "- From graph we can infer that 2023 graduates are more in number"
   ]
  },
  {
   "cell_type": "code",
   "execution_count": 66,
   "id": "bbb7a7d3",
   "metadata": {},
   "outputs": [
    {
     "data": {
      "text/plain": [
       "Index(['First Name', 'Email ID', 'Quantity', 'Events', 'Attendee Status',\n",
       "       'College Name', 'How did you come to know about this event?',\n",
       "       'Specify in \"Others\" (how did you come to know about this event)',\n",
       "       'Designation', 'Year of Graduation', 'City', 'CGPA',\n",
       "       'Experience with python (Months)', 'Family Income',\n",
       "       'Expected salary (Lac)', 'Leadership- skills'],\n",
       "      dtype='object')"
      ]
     },
     "execution_count": 66,
     "metadata": {},
     "output_type": "execute_result"
    }
   ],
   "source": [
    "df.columns"
   ]
  },
  {
   "cell_type": "code",
   "execution_count": 67,
   "id": "54b453e3",
   "metadata": {},
   "outputs": [
    {
     "name": "stderr",
     "output_type": "stream",
     "text": [
      "C:\\Users\\karth\\AppData\\Local\\Temp\\ipykernel_568\\4267207160.py:1: UserWarning: \n",
      "\n",
      "`distplot` is a deprecated function and will be removed in seaborn v0.14.0.\n",
      "\n",
      "Please adapt your code to use either `displot` (a figure-level function with\n",
      "similar flexibility) or `histplot` (an axes-level function for histograms).\n",
      "\n",
      "For a guide to updating your code to use the new functions, please see\n",
      "https://gist.github.com/mwaskom/de44147ed2974457ad6372750bbe5751\n",
      "\n",
      "  sn.distplot(df['Experience with python (Months)'])\n"
     ]
    },
    {
     "data": {
      "text/plain": [
       "<Axes: xlabel='Experience with python (Months)', ylabel='Density'>"
      ]
     },
     "execution_count": 67,
     "metadata": {},
     "output_type": "execute_result"
    },
    {
     "data": {
      "image/png": "[encoded data removed]",
      "text/plain": [
       "<Figure size 640x480 with 1 Axes>"
      ]
     },
     "metadata": {},
     "output_type": "display_data"
    }
   ],
   "source": [
    "sn.distplot(df['Experience with python (Months)'])"
   ]
  },
  {
   "cell_type": "markdown",
   "id": "d1948464",
   "metadata": {},
   "source": [
    "- From the graph we can infer that a lot of students have 3 months and 5 months of experience in python "
   ]
  },
  {
   "cell_type": "code",
   "execution_count": 68,
   "id": "0fd2b205",
   "metadata": {
    "scrolled": true
   },
   "outputs": [
    {
     "data": {
      "text/plain": [
       "0     7 Lakh+\n",
       "1    0-2 Lakh\n",
       "2    5-7 Lakh\n",
       "3    2-5 Lakh\n",
       "4    0-2 Lakh\n",
       "Name: Family Income, dtype: object"
      ]
     },
     "execution_count": 68,
     "metadata": {},
     "output_type": "execute_result"
    }
   ],
   "source": [
    "df['Family Income'].head()"
   ]
  },
  {
   "cell_type": "code",
   "execution_count": 69,
   "id": "c1ca9780",
   "metadata": {
    "scrolled": true
   },
   "outputs": [
    {
     "data": {
      "text/plain": [
       "0-2 Lakh    4511\n",
       "2-5 Lakh     200\n",
       "7 Lakh+       89\n",
       "5-7 Lakh      79\n",
       "Name: Family Income, dtype: int64"
      ]
     },
     "execution_count": 69,
     "metadata": {},
     "output_type": "execute_result"
    }
   ],
   "source": [
    "df['Family Income'].value_counts()"
   ]
  },
  {
   "cell_type": "markdown",
   "id": "a71d1f4e",
   "metadata": {},
   "source": [
    "### We are going to make a new column with the appropriate format\n"
   ]
  },
  {
   "cell_type": "code",
   "execution_count": 70,
   "id": "c35e1349",
   "metadata": {},
   "outputs": [],
   "source": [
    "fam_inc=[]\n",
    "for x in range(len(df['Family Income'])):\n",
    "    try:\n",
    "        stri=''\n",
    "        stri=df['Family Income'][x]\n",
    "\n",
    "        if (len(stri)>=8):\n",
    "            fam_inc.append(((float(stri[2])+float(stri[0]))/2))\n",
    "        else: \n",
    "            fam_inc.append(float(stri[0]))\n",
    "    except:\n",
    "        continue\n"
   ]
  },
  {
   "cell_type": "code",
   "execution_count": 71,
   "id": "4b576f3c",
   "metadata": {},
   "outputs": [],
   "source": [
    "for x in range(15):\n",
    "    fam_inc.append(np.nan)"
   ]
  },
  {
   "cell_type": "code",
   "execution_count": 72,
   "id": "55147444",
   "metadata": {},
   "outputs": [],
   "source": [
    "df['Family Income in lakhs']=fam_inc"
   ]
  },
  {
   "cell_type": "code",
   "execution_count": 73,
   "id": "21452a1b",
   "metadata": {},
   "outputs": [
    {
     "data": {
      "text/html": [
       "<div>\n",
       "<style scoped>\n",
       "    .dataframe tbody tr th:only-of-type {\n",
       "        vertical-align: middle;\n",
       "    }\n",
       "\n",
       "    .dataframe tbody tr th {\n",
       "        vertical-align: top;\n",
       "    }\n",
       "\n",
       "    .dataframe thead th {\n",
       "        text-align: right;\n",
       "    }\n",
       "</style>\n",
       "<table border=\"1\" class=\"dataframe\">\n",
       "  <thead>\n",
       "    <tr style=\"text-align: right;\">\n",
       "      <th></th>\n",
       "      <th>First Name</th>\n",
       "      <th>Email ID</th>\n",
       "      <th>Quantity</th>\n",
       "      <th>Events</th>\n",
       "      <th>Attendee Status</th>\n",
       "      <th>College Name</th>\n",
       "      <th>How did you come to know about this event?</th>\n",
       "      <th>Specify in \"Others\" (how did you come to know about this event)</th>\n",
       "      <th>Designation</th>\n",
       "      <th>Year of Graduation</th>\n",
       "      <th>City</th>\n",
       "      <th>CGPA</th>\n",
       "      <th>Experience with python (Months)</th>\n",
       "      <th>Family Income</th>\n",
       "      <th>Expected salary (Lac)</th>\n",
       "      <th>Leadership- skills</th>\n",
       "      <th>Family Income in lakhs</th>\n",
       "    </tr>\n",
       "  </thead>\n",
       "  <tbody>\n",
       "    <tr>\n",
       "      <th>0</th>\n",
       "      <td>ANIKET</td>\n",
       "      <td>aniket@xyz.com</td>\n",
       "      <td>1</td>\n",
       "      <td>Art of Resume Building</td>\n",
       "      <td>Attending</td>\n",
       "      <td>D Y PATIL INSTITUTE OF MCA AND MANAGEMENT AKUR...</td>\n",
       "      <td>Email</td>\n",
       "      <td>College</td>\n",
       "      <td>Students</td>\n",
       "      <td>2024</td>\n",
       "      <td>Patna</td>\n",
       "      <td>6.7</td>\n",
       "      <td>7</td>\n",
       "      <td>7 Lakh+</td>\n",
       "      <td>6</td>\n",
       "      <td>yes</td>\n",
       "      <td>7.0</td>\n",
       "    </tr>\n",
       "    <tr>\n",
       "      <th>1</th>\n",
       "      <td>Dhanshree</td>\n",
       "      <td>dhanshree@xyz.com</td>\n",
       "      <td>1</td>\n",
       "      <td>Art of Resume Building</td>\n",
       "      <td>Attending</td>\n",
       "      <td>AP SHAH INSTITUTE OF TECHNOLOGY</td>\n",
       "      <td>Others</td>\n",
       "      <td>College</td>\n",
       "      <td>Students</td>\n",
       "      <td>2024</td>\n",
       "      <td>Amravati</td>\n",
       "      <td>8.2</td>\n",
       "      <td>3</td>\n",
       "      <td>0-2 Lakh</td>\n",
       "      <td>7</td>\n",
       "      <td>no</td>\n",
       "      <td>1.0</td>\n",
       "    </tr>\n",
       "    <tr>\n",
       "      <th>2</th>\n",
       "      <td>Dhiraj</td>\n",
       "      <td>dhiraj@xyz.com</td>\n",
       "      <td>1</td>\n",
       "      <td>Art of Resume Building</td>\n",
       "      <td>Attending</td>\n",
       "      <td>Don Bosco College of Engineering Fatorda Goa</td>\n",
       "      <td>Email</td>\n",
       "      <td>College</td>\n",
       "      <td>Students</td>\n",
       "      <td>2023</td>\n",
       "      <td>Kunrool</td>\n",
       "      <td>6.5</td>\n",
       "      <td>4</td>\n",
       "      <td>5-7 Lakh</td>\n",
       "      <td>7</td>\n",
       "      <td>no</td>\n",
       "      <td>6.0</td>\n",
       "    </tr>\n",
       "    <tr>\n",
       "      <th>3</th>\n",
       "      <td>Pooja</td>\n",
       "      <td>pooja@xyz.com</td>\n",
       "      <td>1</td>\n",
       "      <td>Art of Resume Building</td>\n",
       "      <td>Attending</td>\n",
       "      <td>Pillai College of Engineering New Panvel</td>\n",
       "      <td>Email</td>\n",
       "      <td>College</td>\n",
       "      <td>Students</td>\n",
       "      <td>2025</td>\n",
       "      <td>Tirupati</td>\n",
       "      <td>8.7</td>\n",
       "      <td>7</td>\n",
       "      <td>2-5 Lakh</td>\n",
       "      <td>8</td>\n",
       "      <td>no</td>\n",
       "      <td>3.5</td>\n",
       "    </tr>\n",
       "    <tr>\n",
       "      <th>4</th>\n",
       "      <td>Aayush</td>\n",
       "      <td>aayush@xyz.com</td>\n",
       "      <td>1</td>\n",
       "      <td>Art of Resume Building</td>\n",
       "      <td>Attending</td>\n",
       "      <td>St Xavier's College</td>\n",
       "      <td>Instagram | LinkedIn | Cloud Counselage Website</td>\n",
       "      <td>College</td>\n",
       "      <td>Students</td>\n",
       "      <td>2024</td>\n",
       "      <td>Vijaywada</td>\n",
       "      <td>9.1</td>\n",
       "      <td>3</td>\n",
       "      <td>0-2 Lakh</td>\n",
       "      <td>10</td>\n",
       "      <td>yes</td>\n",
       "      <td>1.0</td>\n",
       "    </tr>\n",
       "  </tbody>\n",
       "</table>\n",
       "</div>"
      ],
      "text/plain": [
       "  First Name           Email ID  Quantity                  Events  \\\n",
       "0     ANIKET     aniket@xyz.com         1  Art of Resume Building   \n",
       "1  Dhanshree  dhanshree@xyz.com         1  Art of Resume Building   \n",
       "2     Dhiraj     dhiraj@xyz.com         1  Art of Resume Building   \n",
       "3      Pooja      pooja@xyz.com         1  Art of Resume Building   \n",
       "4     Aayush     aayush@xyz.com         1  Art of Resume Building   \n",
       "\n",
       "  Attendee Status                                       College Name  \\\n",
       "0       Attending  D Y PATIL INSTITUTE OF MCA AND MANAGEMENT AKUR...   \n",
       "1       Attending                   AP SHAH INSTITUTE OF TECHNOLOGY    \n",
       "2       Attending       Don Bosco College of Engineering Fatorda Goa   \n",
       "3       Attending           Pillai College of Engineering New Panvel   \n",
       "4       Attending                               St Xavier's College    \n",
       "\n",
       "        How did you come to know about this event?  \\\n",
       "0                                            Email   \n",
       "1                                           Others   \n",
       "2                                            Email   \n",
       "3                                            Email   \n",
       "4  Instagram | LinkedIn | Cloud Counselage Website   \n",
       "\n",
       "  Specify in \"Others\" (how did you come to know about this event) Designation  \\\n",
       "0                                            College                 Students   \n",
       "1                                            College                 Students   \n",
       "2                                            College                 Students   \n",
       "3                                            College                 Students   \n",
       "4                                            College                 Students   \n",
       "\n",
       "   Year of Graduation       City  CGPA  Experience with python (Months)  \\\n",
       "0                2024      Patna   6.7                                7   \n",
       "1                2024   Amravati   8.2                                3   \n",
       "2                2023    Kunrool   6.5                                4   \n",
       "3                2025   Tirupati   8.7                                7   \n",
       "4                2024  Vijaywada   9.1                                3   \n",
       "\n",
       "  Family Income  Expected salary (Lac) Leadership- skills  \\\n",
       "0       7 Lakh+                      6                yes   \n",
       "1      0-2 Lakh                      7                 no   \n",
       "2      5-7 Lakh                      7                 no   \n",
       "3      2-5 Lakh                      8                 no   \n",
       "4      0-2 Lakh                     10                yes   \n",
       "\n",
       "   Family Income in lakhs  \n",
       "0                     7.0  \n",
       "1                     1.0  \n",
       "2                     6.0  \n",
       "3                     3.5  \n",
       "4                     1.0  "
      ]
     },
     "execution_count": 73,
     "metadata": {},
     "output_type": "execute_result"
    }
   ],
   "source": [
    "df.head()"
   ]
  },
  {
   "cell_type": "code",
   "execution_count": 74,
   "id": "73616937",
   "metadata": {},
   "outputs": [
    {
     "data": {
      "text/html": [
       "<div>\n",
       "<style scoped>\n",
       "    .dataframe tbody tr th:only-of-type {\n",
       "        vertical-align: middle;\n",
       "    }\n",
       "\n",
       "    .dataframe tbody tr th {\n",
       "        vertical-align: top;\n",
       "    }\n",
       "\n",
       "    .dataframe thead th {\n",
       "        text-align: right;\n",
       "    }\n",
       "</style>\n",
       "<table border=\"1\" class=\"dataframe\">\n",
       "  <thead>\n",
       "    <tr style=\"text-align: right;\">\n",
       "      <th></th>\n",
       "      <th>First Name</th>\n",
       "      <th>Email ID</th>\n",
       "      <th>Quantity</th>\n",
       "      <th>Events</th>\n",
       "      <th>Attendee Status</th>\n",
       "      <th>College Name</th>\n",
       "      <th>How did you come to know about this event?</th>\n",
       "      <th>Specify in \"Others\" (how did you come to know about this event)</th>\n",
       "      <th>Designation</th>\n",
       "      <th>Year of Graduation</th>\n",
       "      <th>City</th>\n",
       "      <th>CGPA</th>\n",
       "      <th>Experience with python (Months)</th>\n",
       "      <th>Expected salary (Lac)</th>\n",
       "      <th>Leadership- skills</th>\n",
       "      <th>Family Income in lakhs</th>\n",
       "    </tr>\n",
       "  </thead>\n",
       "  <tbody>\n",
       "    <tr>\n",
       "      <th>0</th>\n",
       "      <td>ANIKET</td>\n",
       "      <td>aniket@xyz.com</td>\n",
       "      <td>1</td>\n",
       "      <td>Art of Resume Building</td>\n",
       "      <td>Attending</td>\n",
       "      <td>D Y PATIL INSTITUTE OF MCA AND MANAGEMENT AKUR...</td>\n",
       "      <td>Email</td>\n",
       "      <td>College</td>\n",
       "      <td>Students</td>\n",
       "      <td>2024</td>\n",
       "      <td>Patna</td>\n",
       "      <td>6.7</td>\n",
       "      <td>7</td>\n",
       "      <td>6</td>\n",
       "      <td>yes</td>\n",
       "      <td>7.0</td>\n",
       "    </tr>\n",
       "    <tr>\n",
       "      <th>1</th>\n",
       "      <td>Dhanshree</td>\n",
       "      <td>dhanshree@xyz.com</td>\n",
       "      <td>1</td>\n",
       "      <td>Art of Resume Building</td>\n",
       "      <td>Attending</td>\n",
       "      <td>AP SHAH INSTITUTE OF TECHNOLOGY</td>\n",
       "      <td>Others</td>\n",
       "      <td>College</td>\n",
       "      <td>Students</td>\n",
       "      <td>2024</td>\n",
       "      <td>Amravati</td>\n",
       "      <td>8.2</td>\n",
       "      <td>3</td>\n",
       "      <td>7</td>\n",
       "      <td>no</td>\n",
       "      <td>1.0</td>\n",
       "    </tr>\n",
       "    <tr>\n",
       "      <th>2</th>\n",
       "      <td>Dhiraj</td>\n",
       "      <td>dhiraj@xyz.com</td>\n",
       "      <td>1</td>\n",
       "      <td>Art of Resume Building</td>\n",
       "      <td>Attending</td>\n",
       "      <td>Don Bosco College of Engineering Fatorda Goa</td>\n",
       "      <td>Email</td>\n",
       "      <td>College</td>\n",
       "      <td>Students</td>\n",
       "      <td>2023</td>\n",
       "      <td>Kunrool</td>\n",
       "      <td>6.5</td>\n",
       "      <td>4</td>\n",
       "      <td>7</td>\n",
       "      <td>no</td>\n",
       "      <td>6.0</td>\n",
       "    </tr>\n",
       "    <tr>\n",
       "      <th>3</th>\n",
       "      <td>Pooja</td>\n",
       "      <td>pooja@xyz.com</td>\n",
       "      <td>1</td>\n",
       "      <td>Art of Resume Building</td>\n",
       "      <td>Attending</td>\n",
       "      <td>Pillai College of Engineering New Panvel</td>\n",
       "      <td>Email</td>\n",
       "      <td>College</td>\n",
       "      <td>Students</td>\n",
       "      <td>2025</td>\n",
       "      <td>Tirupati</td>\n",
       "      <td>8.7</td>\n",
       "      <td>7</td>\n",
       "      <td>8</td>\n",
       "      <td>no</td>\n",
       "      <td>3.5</td>\n",
       "    </tr>\n",
       "    <tr>\n",
       "      <th>4</th>\n",
       "      <td>Aayush</td>\n",
       "      <td>aayush@xyz.com</td>\n",
       "      <td>1</td>\n",
       "      <td>Art of Resume Building</td>\n",
       "      <td>Attending</td>\n",
       "      <td>St Xavier's College</td>\n",
       "      <td>Instagram | LinkedIn | Cloud Counselage Website</td>\n",
       "      <td>College</td>\n",
       "      <td>Students</td>\n",
       "      <td>2024</td>\n",
       "      <td>Vijaywada</td>\n",
       "      <td>9.1</td>\n",
       "      <td>3</td>\n",
       "      <td>10</td>\n",
       "      <td>yes</td>\n",
       "      <td>1.0</td>\n",
       "    </tr>\n",
       "    <tr>\n",
       "      <th>...</th>\n",
       "      <td>...</td>\n",
       "      <td>...</td>\n",
       "      <td>...</td>\n",
       "      <td>...</td>\n",
       "      <td>...</td>\n",
       "      <td>...</td>\n",
       "      <td>...</td>\n",
       "      <td>...</td>\n",
       "      <td>...</td>\n",
       "      <td>...</td>\n",
       "      <td>...</td>\n",
       "      <td>...</td>\n",
       "      <td>...</td>\n",
       "      <td>...</td>\n",
       "      <td>...</td>\n",
       "      <td>...</td>\n",
       "    </tr>\n",
       "    <tr>\n",
       "      <th>4874</th>\n",
       "      <td>NIKHEEL</td>\n",
       "      <td>nikheel@xyz.com</td>\n",
       "      <td>1</td>\n",
       "      <td>The SDLC &amp; their transformations</td>\n",
       "      <td>Attending</td>\n",
       "      <td>g h raisoni institut of engineering and techno...</td>\n",
       "      <td>LinkedIn | Email | Cloud Counselage Website</td>\n",
       "      <td>College</td>\n",
       "      <td>Students</td>\n",
       "      <td>2026</td>\n",
       "      <td>Aurangabad</td>\n",
       "      <td>7.9</td>\n",
       "      <td>6</td>\n",
       "      <td>21</td>\n",
       "      <td>no</td>\n",
       "      <td>3.5</td>\n",
       "    </tr>\n",
       "    <tr>\n",
       "      <th>4875</th>\n",
       "      <td>Haiya</td>\n",
       "      <td>haiya@xyz.com</td>\n",
       "      <td>1</td>\n",
       "      <td>The SDLC &amp; their transformations</td>\n",
       "      <td>Attending</td>\n",
       "      <td>kle society's college of bca, rls institute, b...</td>\n",
       "      <td>Facebook</td>\n",
       "      <td>College</td>\n",
       "      <td>Students</td>\n",
       "      <td>2025</td>\n",
       "      <td>Buldhana</td>\n",
       "      <td>9.8</td>\n",
       "      <td>8</td>\n",
       "      <td>30</td>\n",
       "      <td>no</td>\n",
       "      <td>1.0</td>\n",
       "    </tr>\n",
       "    <tr>\n",
       "      <th>4876</th>\n",
       "      <td>Rangrez</td>\n",
       "      <td>rangrez@xyz.com</td>\n",
       "      <td>1</td>\n",
       "      <td>The SDLC &amp; their transformations</td>\n",
       "      <td>Attending</td>\n",
       "      <td>late g. n. sapkal college of engineering</td>\n",
       "      <td>Email</td>\n",
       "      <td>College</td>\n",
       "      <td>Students</td>\n",
       "      <td>2026</td>\n",
       "      <td>Thane</td>\n",
       "      <td>9.1</td>\n",
       "      <td>5</td>\n",
       "      <td>24</td>\n",
       "      <td>no</td>\n",
       "      <td>1.0</td>\n",
       "    </tr>\n",
       "    <tr>\n",
       "      <th>4877</th>\n",
       "      <td>KASUNDRA</td>\n",
       "      <td>kasundra@xyz.com</td>\n",
       "      <td>1</td>\n",
       "      <td>The SDLC &amp; their transformations</td>\n",
       "      <td>Attending</td>\n",
       "      <td>mit academy of engineering ,alandi</td>\n",
       "      <td>Facebook</td>\n",
       "      <td>College</td>\n",
       "      <td>Students</td>\n",
       "      <td>2024</td>\n",
       "      <td>Mumbai</td>\n",
       "      <td>9.5</td>\n",
       "      <td>8</td>\n",
       "      <td>19</td>\n",
       "      <td>no</td>\n",
       "      <td>1.0</td>\n",
       "    </tr>\n",
       "    <tr>\n",
       "      <th>4878</th>\n",
       "      <td>Utkarsh</td>\n",
       "      <td>utkarsh@xyz.com</td>\n",
       "      <td>1</td>\n",
       "      <td>The SDLC &amp; their transformations</td>\n",
       "      <td>Attending</td>\n",
       "      <td>a. c. patil college of engineering</td>\n",
       "      <td>Email</td>\n",
       "      <td>College</td>\n",
       "      <td>Students</td>\n",
       "      <td>2024</td>\n",
       "      <td>Nagpur</td>\n",
       "      <td>6.8</td>\n",
       "      <td>5</td>\n",
       "      <td>21</td>\n",
       "      <td>yes</td>\n",
       "      <td>1.0</td>\n",
       "    </tr>\n",
       "  </tbody>\n",
       "</table>\n",
       "<p>4864 rows × 16 columns</p>\n",
       "</div>"
      ],
      "text/plain": [
       "     First Name           Email ID  Quantity  \\\n",
       "0        ANIKET     aniket@xyz.com         1   \n",
       "1     Dhanshree  dhanshree@xyz.com         1   \n",
       "2        Dhiraj     dhiraj@xyz.com         1   \n",
       "3         Pooja      pooja@xyz.com         1   \n",
       "4        Aayush     aayush@xyz.com         1   \n",
       "...         ...                ...       ...   \n",
       "4874    NIKHEEL    nikheel@xyz.com         1   \n",
       "4875      Haiya      haiya@xyz.com         1   \n",
       "4876    Rangrez    rangrez@xyz.com         1   \n",
       "4877   KASUNDRA   kasundra@xyz.com         1   \n",
       "4878    Utkarsh    utkarsh@xyz.com         1   \n",
       "\n",
       "                                Events Attendee Status  \\\n",
       "0               Art of Resume Building       Attending   \n",
       "1               Art of Resume Building       Attending   \n",
       "2               Art of Resume Building       Attending   \n",
       "3               Art of Resume Building       Attending   \n",
       "4               Art of Resume Building       Attending   \n",
       "...                                ...             ...   \n",
       "4874  The SDLC & their transformations       Attending   \n",
       "4875  The SDLC & their transformations       Attending   \n",
       "4876  The SDLC & their transformations       Attending   \n",
       "4877  The SDLC & their transformations       Attending   \n",
       "4878  The SDLC & their transformations       Attending   \n",
       "\n",
       "                                           College Name  \\\n",
       "0     D Y PATIL INSTITUTE OF MCA AND MANAGEMENT AKUR...   \n",
       "1                      AP SHAH INSTITUTE OF TECHNOLOGY    \n",
       "2          Don Bosco College of Engineering Fatorda Goa   \n",
       "3              Pillai College of Engineering New Panvel   \n",
       "4                                  St Xavier's College    \n",
       "...                                                 ...   \n",
       "4874  g h raisoni institut of engineering and techno...   \n",
       "4875  kle society's college of bca, rls institute, b...   \n",
       "4876           late g. n. sapkal college of engineering   \n",
       "4877                 mit academy of engineering ,alandi   \n",
       "4878                 a. c. patil college of engineering   \n",
       "\n",
       "           How did you come to know about this event?  \\\n",
       "0                                               Email   \n",
       "1                                              Others   \n",
       "2                                               Email   \n",
       "3                                               Email   \n",
       "4     Instagram | LinkedIn | Cloud Counselage Website   \n",
       "...                                               ...   \n",
       "4874      LinkedIn | Email | Cloud Counselage Website   \n",
       "4875                                         Facebook   \n",
       "4876                                            Email   \n",
       "4877                                         Facebook   \n",
       "4878                                            Email   \n",
       "\n",
       "     Specify in \"Others\" (how did you come to know about this event)  \\\n",
       "0                                               College                \n",
       "1                                               College                \n",
       "2                                               College                \n",
       "3                                               College                \n",
       "4                                               College                \n",
       "...                                                 ...                \n",
       "4874                                            College                \n",
       "4875                                            College                \n",
       "4876                                            College                \n",
       "4877                                            College                \n",
       "4878                                            College                \n",
       "\n",
       "     Designation  Year of Graduation        City  CGPA  \\\n",
       "0       Students                2024       Patna   6.7   \n",
       "1       Students                2024    Amravati   8.2   \n",
       "2       Students                2023     Kunrool   6.5   \n",
       "3       Students                2025    Tirupati   8.7   \n",
       "4       Students                2024   Vijaywada   9.1   \n",
       "...          ...                 ...         ...   ...   \n",
       "4874    Students                2026  Aurangabad   7.9   \n",
       "4875    Students                2025    Buldhana   9.8   \n",
       "4876    Students                2026       Thane   9.1   \n",
       "4877    Students                2024      Mumbai   9.5   \n",
       "4878    Students                2024      Nagpur   6.8   \n",
       "\n",
       "      Experience with python (Months)  Expected salary (Lac)  \\\n",
       "0                                   7                      6   \n",
       "1                                   3                      7   \n",
       "2                                   4                      7   \n",
       "3                                   7                      8   \n",
       "4                                   3                     10   \n",
       "...                               ...                    ...   \n",
       "4874                                6                     21   \n",
       "4875                                8                     30   \n",
       "4876                                5                     24   \n",
       "4877                                8                     19   \n",
       "4878                                5                     21   \n",
       "\n",
       "     Leadership- skills  Family Income in lakhs  \n",
       "0                   yes                     7.0  \n",
       "1                    no                     1.0  \n",
       "2                    no                     6.0  \n",
       "3                    no                     3.5  \n",
       "4                   yes                     1.0  \n",
       "...                 ...                     ...  \n",
       "4874                 no                     3.5  \n",
       "4875                no                      1.0  \n",
       "4876                 no                     1.0  \n",
       "4877                 no                     1.0  \n",
       "4878                yes                     1.0  \n",
       "\n",
       "[4864 rows x 16 columns]"
      ]
     },
     "execution_count": 74,
     "metadata": {},
     "output_type": "execute_result"
    }
   ],
   "source": [
    "df.dropna(axis=0, inplace=True)\n",
    "df.drop(columns=['Family Income'])"
   ]
  },
  {
   "cell_type": "markdown",
   "id": "2fe1411d",
   "metadata": {},
   "source": [
    "## Replaced the range of income with average of the range"
   ]
  },
  {
   "cell_type": "markdown",
   "id": "e0e03992",
   "metadata": {},
   "source": [
    "## Question 5: Average family income of all students?"
   ]
  },
  {
   "cell_type": "code",
   "execution_count": 75,
   "id": "69cb6c8a",
   "metadata": {},
   "outputs": [
    {
     "name": "stdout",
     "output_type": "stream",
     "text": [
      "Avg family income of all students in lakhs:  1.290296052631579\n"
     ]
    }
   ],
   "source": [
    "print('Avg family income of all students in lakhs: ', df['Family Income in lakhs'].mean())"
   ]
  },
  {
   "cell_type": "markdown",
   "id": "51981f00",
   "metadata": {},
   "source": [
    "## Question 6: How does GPA vary among different colleges?"
   ]
  },
  {
   "cell_type": "code",
   "execution_count": 85,
   "id": "232202c2",
   "metadata": {},
   "outputs": [],
   "source": [
    "df2=df.groupby('College Name')['CGPA'].mean().reset_index(level='College Name')"
   ]
  },
  {
   "cell_type": "code",
   "execution_count": 88,
   "id": "8790b62d",
   "metadata": {},
   "outputs": [
    {
     "data": {
      "text/html": [
       "<div>\n",
       "<style scoped>\n",
       "    .dataframe tbody tr th:only-of-type {\n",
       "        vertical-align: middle;\n",
       "    }\n",
       "\n",
       "    .dataframe tbody tr th {\n",
       "        vertical-align: top;\n",
       "    }\n",
       "\n",
       "    .dataframe thead th {\n",
       "        text-align: right;\n",
       "    }\n",
       "</style>\n",
       "<table border=\"1\" class=\"dataframe\">\n",
       "  <thead>\n",
       "    <tr style=\"text-align: right;\">\n",
       "      <th></th>\n",
       "      <th>College Name</th>\n",
       "      <th>CGPA</th>\n",
       "    </tr>\n",
       "  </thead>\n",
       "  <tbody>\n",
       "    <tr>\n",
       "      <th>23</th>\n",
       "      <td>THAKUR INSTITUTE OF MANAGEMENT STUDIES, CAREER...</td>\n",
       "      <td>8.585714</td>\n",
       "    </tr>\n",
       "    <tr>\n",
       "      <th>20</th>\n",
       "      <td>St Xavier's College</td>\n",
       "      <td>8.578571</td>\n",
       "    </tr>\n",
       "    <tr>\n",
       "      <th>3</th>\n",
       "      <td>B. K. Birla College of Arts, Science &amp; Commerc...</td>\n",
       "      <td>8.456410</td>\n",
       "    </tr>\n",
       "    <tr>\n",
       "      <th>22</th>\n",
       "      <td>Symbiosis Institute of Technology, Pune</td>\n",
       "      <td>8.303448</td>\n",
       "    </tr>\n",
       "    <tr>\n",
       "      <th>2</th>\n",
       "      <td>AP SHAH INSTITUTE OF TECHNOLOGY</td>\n",
       "      <td>8.283333</td>\n",
       "    </tr>\n",
       "  </tbody>\n",
       "</table>\n",
       "</div>"
      ],
      "text/plain": [
       "                                         College Name      CGPA\n",
       "23  THAKUR INSTITUTE OF MANAGEMENT STUDIES, CAREER...  8.585714\n",
       "20                               St Xavier's College   8.578571\n",
       "3   B. K. Birla College of Arts, Science & Commerc...  8.456410\n",
       "22            Symbiosis Institute of Technology, Pune  8.303448\n",
       "2                    AP SHAH INSTITUTE OF TECHNOLOGY   8.283333"
      ]
     },
     "execution_count": 88,
     "metadata": {},
     "output_type": "execute_result"
    }
   ],
   "source": [
    "df3=df2.sort_values(by='CGPA', ascending=False).head()\n",
    "df3.head()"
   ]
  },
  {
   "cell_type": "code",
   "execution_count": 112,
   "id": "8e1c42d9",
   "metadata": {},
   "outputs": [
    {
     "data": {
      "text/plain": [
       "<Axes: xlabel='College', ylabel='Avg CGPA'>"
      ]
     },
     "execution_count": 112,
     "metadata": {},
     "output_type": "execute_result"
    },
    {
     "data": {
      "image/png": "[encoded data removed]",
      "text/plain": [
       "<Figure size 1500x800 with 1 Axes>"
      ]
     },
     "metadata": {},
     "output_type": "display_data"
    }
   ],
   "source": [
    "df3.plot(kind='bar',x='College Name', figsize=(15,8),xlabel='College',ylabel='Avg CGPA')"
   ]
  },
  {
   "cell_type": "markdown",
   "id": "68e882cb",
   "metadata": {},
   "source": [
    "## Question 7: Are there any outliers in quantity?"
   ]
  },
  {
   "cell_type": "code",
   "execution_count": 79,
   "id": "39b2c7c1",
   "metadata": {},
   "outputs": [
    {
     "data": {
      "text/plain": [
       "1    4864\n",
       "Name: Quantity, dtype: int64"
      ]
     },
     "execution_count": 79,
     "metadata": {},
     "output_type": "execute_result"
    }
   ],
   "source": [
    "df.columns\n",
    "df['Quantity'].value_counts()\n",
    "# sn.boxplot(df['Quantity'])"
   ]
  },
  {
   "cell_type": "markdown",
   "id": "93d20b04",
   "metadata": {},
   "source": [
    "- No outliers present here"
   ]
  },
  {
   "cell_type": "markdown",
   "id": "1394c524",
   "metadata": {},
   "source": [
    "## Question 8: What is the average GPA for students from each city?"
   ]
  },
  {
   "cell_type": "code",
   "execution_count": 96,
   "id": "76425e71",
   "metadata": {},
   "outputs": [
    {
     "data": {
      "text/html": [
       "<div>\n",
       "<style scoped>\n",
       "    .dataframe tbody tr th:only-of-type {\n",
       "        vertical-align: middle;\n",
       "    }\n",
       "\n",
       "    .dataframe tbody tr th {\n",
       "        vertical-align: top;\n",
       "    }\n",
       "\n",
       "    .dataframe thead th {\n",
       "        text-align: right;\n",
       "    }\n",
       "</style>\n",
       "<table border=\"1\" class=\"dataframe\">\n",
       "  <thead>\n",
       "    <tr style=\"text-align: right;\">\n",
       "      <th></th>\n",
       "      <th>City</th>\n",
       "      <th>CGPA</th>\n",
       "    </tr>\n",
       "  </thead>\n",
       "  <tbody>\n",
       "    <tr>\n",
       "      <th>0</th>\n",
       "      <td>Agartala</td>\n",
       "      <td>7.660714</td>\n",
       "    </tr>\n",
       "    <tr>\n",
       "      <th>1</th>\n",
       "      <td>Agra</td>\n",
       "      <td>8.046429</td>\n",
       "    </tr>\n",
       "    <tr>\n",
       "      <th>2</th>\n",
       "      <td>Ahemdabad</td>\n",
       "      <td>8.190385</td>\n",
       "    </tr>\n",
       "    <tr>\n",
       "      <th>3</th>\n",
       "      <td>Ajmer</td>\n",
       "      <td>8.284314</td>\n",
       "    </tr>\n",
       "    <tr>\n",
       "      <th>4</th>\n",
       "      <td>Akola</td>\n",
       "      <td>8.021429</td>\n",
       "    </tr>\n",
       "  </tbody>\n",
       "</table>\n",
       "</div>"
      ],
      "text/plain": [
       "        City      CGPA\n",
       "0   Agartala  7.660714\n",
       "1       Agra  8.046429\n",
       "2  Ahemdabad  8.190385\n",
       "3      Ajmer  8.284314\n",
       "4      Akola  8.021429"
      ]
     },
     "execution_count": 96,
     "metadata": {},
     "output_type": "execute_result"
    }
   ],
   "source": [
    "df4=df.groupby('City')['CGPA'].mean().reset_index()\n",
    "df4.head()"
   ]
  },
  {
   "cell_type": "code",
   "execution_count": 97,
   "id": "00fd2dc4",
   "metadata": {},
   "outputs": [
    {
     "data": {
      "text/plain": [
       "(177, 2)"
      ]
     },
     "execution_count": 97,
     "metadata": {},
     "output_type": "execute_result"
    }
   ],
   "source": [
    "df4.shape"
   ]
  },
  {
   "cell_type": "code",
   "execution_count": 129,
   "id": "1ac6d3cd",
   "metadata": {},
   "outputs": [],
   "source": [
    "df4_sorted=df4.sort_values(by='CGPA', ascending=False).reset_index()"
   ]
  },
  {
   "cell_type": "code",
   "execution_count": 130,
   "id": "40680bcb",
   "metadata": {},
   "outputs": [],
   "source": [
    "df4_sorted.drop(['index'],axis=1,inplace=True)"
   ]
  },
  {
   "cell_type": "code",
   "execution_count": 131,
   "id": "da2ebdb2",
   "metadata": {},
   "outputs": [
    {
     "data": {
      "text/html": [
       "<div>\n",
       "<style scoped>\n",
       "    .dataframe tbody tr th:only-of-type {\n",
       "        vertical-align: middle;\n",
       "    }\n",
       "\n",
       "    .dataframe tbody tr th {\n",
       "        vertical-align: top;\n",
       "    }\n",
       "\n",
       "    .dataframe thead th {\n",
       "        text-align: right;\n",
       "    }\n",
       "</style>\n",
       "<table border=\"1\" class=\"dataframe\">\n",
       "  <thead>\n",
       "    <tr style=\"text-align: right;\">\n",
       "      <th></th>\n",
       "      <th>City</th>\n",
       "      <th>CGPA</th>\n",
       "    </tr>\n",
       "  </thead>\n",
       "  <tbody>\n",
       "    <tr>\n",
       "      <th>0</th>\n",
       "      <td>Kolhapur</td>\n",
       "      <td>8.557143</td>\n",
       "    </tr>\n",
       "    <tr>\n",
       "      <th>1</th>\n",
       "      <td>Raipur</td>\n",
       "      <td>8.507143</td>\n",
       "    </tr>\n",
       "    <tr>\n",
       "      <th>2</th>\n",
       "      <td>Sonipat</td>\n",
       "      <td>8.464286</td>\n",
       "    </tr>\n",
       "    <tr>\n",
       "      <th>3</th>\n",
       "      <td>Gurugram</td>\n",
       "      <td>8.459259</td>\n",
       "    </tr>\n",
       "    <tr>\n",
       "      <th>4</th>\n",
       "      <td>Siwan</td>\n",
       "      <td>8.450000</td>\n",
       "    </tr>\n",
       "  </tbody>\n",
       "</table>\n",
       "</div>"
      ],
      "text/plain": [
       "       City      CGPA\n",
       "0  Kolhapur  8.557143\n",
       "1    Raipur  8.507143\n",
       "2   Sonipat  8.464286\n",
       "3  Gurugram  8.459259\n",
       "4     Siwan  8.450000"
      ]
     },
     "execution_count": 131,
     "metadata": {},
     "output_type": "execute_result"
    }
   ],
   "source": [
    "df4_sorted.head()"
   ]
  },
  {
   "cell_type": "markdown",
   "id": "4705836e",
   "metadata": {},
   "source": [
    "- since data is too big we will plot for top 10 cities only"
   ]
  },
  {
   "cell_type": "code",
   "execution_count": 138,
   "id": "64e52d66",
   "metadata": {
    "scrolled": true
   },
   "outputs": [
    {
     "data": {
      "text/plain": [
       "<Axes: title={'center': 'Top 10 cities with high CGPA'}, xlabel='City', ylabel='Avg CGPA'>"
      ]
     },
     "execution_count": 138,
     "metadata": {},
     "output_type": "execute_result"
    },
    {
     "data": {
      "image/png": "[encoded data removed]",
      "text/plain": [
       "<Figure size 1500x800 with 1 Axes>"
      ]
     },
     "metadata": {},
     "output_type": "display_data"
    }
   ],
   "source": [
    "df4_sorted.head(10).plot(kind='bar',x='City', figsize=(15,8),xlabel='City',ylabel='Avg CGPA',ylim=[0,10], title='Top 10 cities with high CGPA')"
   ]
  },
  {
   "cell_type": "markdown",
   "id": "2f86de61",
   "metadata": {},
   "source": [
    "## Question 9: What is the relationship between family income and CGPA?"
   ]
  },
  {
   "cell_type": "code",
   "execution_count": 139,
   "id": "e18dc370",
   "metadata": {},
   "outputs": [
    {
     "data": {
      "text/html": [
       "<div>\n",
       "<style scoped>\n",
       "    .dataframe tbody tr th:only-of-type {\n",
       "        vertical-align: middle;\n",
       "    }\n",
       "\n",
       "    .dataframe tbody tr th {\n",
       "        vertical-align: top;\n",
       "    }\n",
       "\n",
       "    .dataframe thead th {\n",
       "        text-align: right;\n",
       "    }\n",
       "</style>\n",
       "<table border=\"1\" class=\"dataframe\">\n",
       "  <thead>\n",
       "    <tr style=\"text-align: right;\">\n",
       "      <th></th>\n",
       "      <th>Family Income in lakhs</th>\n",
       "      <th>CGPA</th>\n",
       "    </tr>\n",
       "  </thead>\n",
       "  <tbody>\n",
       "    <tr>\n",
       "      <th>0</th>\n",
       "      <td>1.0</td>\n",
       "      <td>8.033163</td>\n",
       "    </tr>\n",
       "    <tr>\n",
       "      <th>1</th>\n",
       "      <td>3.5</td>\n",
       "      <td>8.115000</td>\n",
       "    </tr>\n",
       "    <tr>\n",
       "      <th>2</th>\n",
       "      <td>6.0</td>\n",
       "      <td>8.028205</td>\n",
       "    </tr>\n",
       "    <tr>\n",
       "      <th>3</th>\n",
       "      <td>7.0</td>\n",
       "      <td>8.172414</td>\n",
       "    </tr>\n",
       "  </tbody>\n",
       "</table>\n",
       "</div>"
      ],
      "text/plain": [
       "   Family Income in lakhs      CGPA\n",
       "0                     1.0  8.033163\n",
       "1                     3.5  8.115000\n",
       "2                     6.0  8.028205\n",
       "3                     7.0  8.172414"
      ]
     },
     "execution_count": 139,
     "metadata": {},
     "output_type": "execute_result"
    }
   ],
   "source": [
    "df6=df.groupby('Family Income in lakhs')['CGPA'].mean().reset_index()\n",
    "df6.head()"
   ]
  },
  {
   "cell_type": "code",
   "execution_count": 145,
   "id": "eb3a9d83",
   "metadata": {},
   "outputs": [],
   "source": [
    "df7=df6.sort_values(by='Family Income in lakhs', ascending=False)"
   ]
  },
  {
   "cell_type": "code",
   "execution_count": 154,
   "id": "a9f3321d",
   "metadata": {},
   "outputs": [
    {
     "data": {
      "text/plain": [
       "<Axes: xlabel='Family Income in lakhs', ylabel='CGPA'>"
      ]
     },
     "execution_count": 154,
     "metadata": {},
     "output_type": "execute_result"
    },
    {
     "data": {
      "image/png": "[encoded data removed]",
      "text/plain": [
       "<Figure size 640x480 with 1 Axes>"
      ]
     },
     "metadata": {},
     "output_type": "display_data"
    }
   ],
   "source": [
    "sn.lineplot(y='CGPA',x='Family Income in lakhs',data=df7)"
   ]
  },
  {
   "cell_type": "code",
   "execution_count": 156,
   "id": "10868b0e",
   "metadata": {},
   "outputs": [
    {
     "data": {
      "text/plain": [
       "<Axes: >"
      ]
     },
     "execution_count": 156,
     "metadata": {},
     "output_type": "execute_result"
    },
    {
     "data": {
      "image/png": "[encoded data removed]",
      "text/plain": [
       "<Figure size 640x480 with 2 Axes>"
      ]
     },
     "metadata": {},
     "output_type": "display_data"
    }
   ],
   "source": [
    "corr=df7.corr()\n",
    "sn.heatmap(corr,annot=True)"
   ]
  },
  {
   "cell_type": "markdown",
   "id": "0e96c69a",
   "metadata": {},
   "source": [
    "- There is no strong correlation but, it appears that students from low income families tend to have lower CGPA than their richer peers.\n",
    "- Despite the above statement, we observe a dip in CGPA for family incomes ranging from 5 to almost 7 lakhs. Due to this,it is difficult to provide a strong relationship between the 2 attributes."
   ]
  },
  {
   "cell_type": "markdown",
   "id": "940a9dcd",
   "metadata": {},
   "source": [
    "# Moderate questions"
   ]
  },
  {
   "cell_type": "markdown",
   "id": "933138c9",
   "metadata": {},
   "source": [
    "## Question 10: How many students are from various cities?"
   ]
  },
  {
   "cell_type": "code",
   "execution_count": 157,
   "id": "268f5e40",
   "metadata": {},
   "outputs": [
    {
     "data": {
      "text/plain": [
       "Index(['First Name', 'Email ID', 'Quantity', 'Events', 'Attendee Status',\n",
       "       'College Name', 'How did you come to know about this event?',\n",
       "       'Specify in \"Others\" (how did you come to know about this event)',\n",
       "       'Designation', 'Year of Graduation', 'City', 'CGPA',\n",
       "       'Experience with python (Months)', 'Family Income',\n",
       "       'Expected salary (Lac)', 'Leadership- skills',\n",
       "       'Family Income in lakhs'],\n",
       "      dtype='object')"
      ]
     },
     "execution_count": 157,
     "metadata": {},
     "output_type": "execute_result"
    }
   ],
   "source": [
    "df.columns"
   ]
  },
  {
   "cell_type": "code",
   "execution_count": 176,
   "id": "297f0121",
   "metadata": {},
   "outputs": [],
   "source": [
    "city_frequencies=df['City'].value_counts()"
   ]
  },
  {
   "cell_type": "code",
   "execution_count": 188,
   "id": "e4df8971",
   "metadata": {},
   "outputs": [
    {
     "data": {
      "text/html": [
       "<div>\n",
       "<style scoped>\n",
       "    .dataframe tbody tr th:only-of-type {\n",
       "        vertical-align: middle;\n",
       "    }\n",
       "\n",
       "    .dataframe tbody tr th {\n",
       "        vertical-align: top;\n",
       "    }\n",
       "\n",
       "    .dataframe thead th {\n",
       "        text-align: right;\n",
       "    }\n",
       "</style>\n",
       "<table border=\"1\" class=\"dataframe\">\n",
       "  <thead>\n",
       "    <tr style=\"text-align: right;\">\n",
       "      <th></th>\n",
       "      <th>City</th>\n",
       "    </tr>\n",
       "  </thead>\n",
       "  <tbody>\n",
       "    <tr>\n",
       "      <th>Chandigarh</th>\n",
       "      <td>57</td>\n",
       "    </tr>\n",
       "    <tr>\n",
       "      <th>Siuri</th>\n",
       "      <td>56</td>\n",
       "    </tr>\n",
       "    <tr>\n",
       "      <th>Gonda</th>\n",
       "      <td>56</td>\n",
       "    </tr>\n",
       "    <tr>\n",
       "      <th>Talmuk</th>\n",
       "      <td>56</td>\n",
       "    </tr>\n",
       "    <tr>\n",
       "      <th>Dwarka</th>\n",
       "      <td>52</td>\n",
       "    </tr>\n",
       "    <tr>\n",
       "      <th>...</th>\n",
       "      <td>...</td>\n",
       "    </tr>\n",
       "    <tr>\n",
       "      <th>Karli</th>\n",
       "      <td>13</td>\n",
       "    </tr>\n",
       "    <tr>\n",
       "      <th>Anantnag</th>\n",
       "      <td>13</td>\n",
       "    </tr>\n",
       "    <tr>\n",
       "      <th>Shillong</th>\n",
       "      <td>13</td>\n",
       "    </tr>\n",
       "    <tr>\n",
       "      <th>Baleshwar</th>\n",
       "      <td>13</td>\n",
       "    </tr>\n",
       "    <tr>\n",
       "      <th>Amravati</th>\n",
       "      <td>6</td>\n",
       "    </tr>\n",
       "  </tbody>\n",
       "</table>\n",
       "<p>177 rows × 1 columns</p>\n",
       "</div>"
      ],
      "text/plain": [
       "            City\n",
       "Chandigarh    57\n",
       "Siuri         56\n",
       "Gonda         56\n",
       "Talmuk        56\n",
       "Dwarka        52\n",
       "...          ...\n",
       "Karli         13\n",
       "Anantnag      13\n",
       "Shillong      13\n",
       "Baleshwar     13\n",
       "Amravati       6\n",
       "\n",
       "[177 rows x 1 columns]"
      ]
     },
     "execution_count": 188,
     "metadata": {},
     "output_type": "execute_result"
    }
   ],
   "source": [
    "df8=pd.DataFrame(city_frequencies)\n",
    "df8"
   ]
  },
  {
   "cell_type": "markdown",
   "id": "544340a1",
   "metadata": {},
   "source": [
    "- There are students from over 177 cities"
   ]
  },
  {
   "cell_type": "code",
   "execution_count": 214,
   "id": "f4e1893e",
   "metadata": {},
   "outputs": [
    {
     "data": {
      "text/plain": [
       "<Axes: ylabel='City'>"
      ]
     },
     "execution_count": 214,
     "metadata": {},
     "output_type": "execute_result"
    },
    {
     "data": {
      "image/png": "[encoded data removed]",
      "text/plain": [
       "<Figure size 500x500 with 1 Axes>"
      ]
     },
     "metadata": {},
     "output_type": "display_data"
    }
   ],
   "source": [
    "df8.head(10).plot.pie(y='City', figsize=(5, 5))"
   ]
  },
  {
   "cell_type": "code",
   "execution_count": 208,
   "id": "13d82d87",
   "metadata": {},
   "outputs": [
    {
     "data": {
      "text/plain": [
       "<Axes: title={'center': 'Top 50 cities where students come from'}>"
      ]
     },
     "execution_count": 208,
     "metadata": {},
     "output_type": "execute_result"
    },
    {
     "data": {
      "image/png": "[encoded data removed]",
      "text/plain": [
       "<Figure size 1000x1000 with 1 Axes>"
      ]
     },
     "metadata": {},
     "output_type": "display_data"
    }
   ],
   "source": [
    "# plt.figure()\n",
    "df8.head(50).plot(kind='bar',figsize=(10,10),title='Top 50 cities where students come from')\n",
    "# plt.xticks(rotation=90)"
   ]
  },
  {
   "cell_type": "markdown",
   "id": "de3ec7f9",
   "metadata": {},
   "source": [
    "## Question 11: How does expected salary vary with CGPA, Family income, Experience with python?"
   ]
  },
  {
   "cell_type": "code",
   "execution_count": 243,
   "id": "d21889d4",
   "metadata": {},
   "outputs": [
    {
     "data": {
      "text/plain": [
       "Index(['First Name', 'Email ID', 'Quantity', 'Events', 'Attendee Status',\n",
       "       'College Name', 'How did you come to know about this event?',\n",
       "       'Specify in \"Others\" (how did you come to know about this event)',\n",
       "       'Designation', 'Year of Graduation', 'City', 'CGPA',\n",
       "       'Experience with python (Months)', 'Family Income',\n",
       "       'Expected salary (Lac)', 'Leadership- skills', 'Family Income in lakhs',\n",
       "       'frequency_group'],\n",
       "      dtype='object')"
      ]
     },
     "execution_count": 243,
     "metadata": {},
     "output_type": "execute_result"
    }
   ],
   "source": [
    "df.columns"
   ]
  },
  {
   "cell_type": "code",
   "execution_count": 244,
   "id": "88b3cd85",
   "metadata": {},
   "outputs": [],
   "source": [
    "df11=df.groupby('Expected salary (Lac)')['CGPA'].mean().reset_index()"
   ]
  },
  {
   "cell_type": "code",
   "execution_count": 258,
   "id": "bea87b1a",
   "metadata": {},
   "outputs": [
    {
     "data": {
      "text/plain": [
       "<Axes: xlabel='CGPA'>"
      ]
     },
     "execution_count": 258,
     "metadata": {},
     "output_type": "execute_result"
    },
    {
     "data": {
      "image/png": "[encoded data removed]",
      "text/plain": [
       "<Figure size 640x480 with 1 Axes>"
      ]
     },
     "metadata": {},
     "output_type": "display_data"
    }
   ],
   "source": [
    "df12=df11.sort_values(by='CGPA',ascending=False)\n",
    "df12.plot(y='Expected salary (Lac)',x='CGPA',kind='line')"
   ]
  },
  {
   "cell_type": "code",
   "execution_count": 254,
   "id": "22882351",
   "metadata": {},
   "outputs": [
    {
     "data": {
      "text/plain": [
       "<Axes: xlabel='Family Income in lakhs'>"
      ]
     },
     "execution_count": 254,
     "metadata": {},
     "output_type": "execute_result"
    },
    {
     "data": {
      "image/png": "[encoded data removed]",
      "text/plain": [
       "<Figure size 640x480 with 1 Axes>"
      ]
     },
     "metadata": {},
     "output_type": "display_data"
    }
   ],
   "source": [
    "df13=df.groupby('Expected salary (Lac)')['Family Income in lakhs'].mean().reset_index()\n",
    "df14=df13.sort_values(by='Family Income in lakhs',ascending=False)\n",
    "df14.plot(y='Expected salary (Lac)',x='Family Income in lakhs',kind='line')"
   ]
  },
  {
   "cell_type": "code",
   "execution_count": 255,
   "id": "9d1a3014",
   "metadata": {},
   "outputs": [
    {
     "data": {
      "text/plain": [
       "<Axes: xlabel='Experience with python (Months)'>"
      ]
     },
     "execution_count": 255,
     "metadata": {},
     "output_type": "execute_result"
    },
    {
     "data": {
      "image/png": "[encoded data removed]",
      "text/plain": [
       "<Figure size 640x480 with 1 Axes>"
      ]
     },
     "metadata": {},
     "output_type": "display_data"
    }
   ],
   "source": [
    "df15=df.groupby('Expected salary (Lac)')['Experience with python (Months)'].mean().reset_index()\n",
    "df16=df15.sort_values(by='Experience with python (Months)',ascending=False)\n",
    "df16.plot(y='Expected salary (Lac)',x='Experience with python (Months)',kind='line')"
   ]
  },
  {
   "cell_type": "markdown",
   "id": "23045328",
   "metadata": {},
   "source": [
    "### From the above graphs we can make the following inferences:\n",
    "    - CGPA does play a role in obatining a higher package, although the graph fluctuates once in a while overall a good CGPA results in a good package.\n",
    "    - To a certain extent, Family incomes also play a role in packages, students from richer households tend to obatin a higher package.\n",
    "    - We also see that experience in python matters quite a lot, students with less than 5 months generally get less than 10LPA, Students with nearly 6 months and above tend to get better packaages than others."
   ]
  },
  {
   "cell_type": "markdown",
   "id": "f5b4d795",
   "metadata": {},
   "source": [
    "## Question 12: Which events tend to attract more students from specific fields of study?"
   ]
  },
  {
   "cell_type": "code",
   "execution_count": 331,
   "id": "56c14e37",
   "metadata": {},
   "outputs": [
    {
     "data": {
      "text/plain": [
       "Product Design & Full Stack                    842\n",
       "Internship Program(IP) Success Conclave        796\n",
       "Art of Resume Building                         470\n",
       "Data Visualization using Power BI              446\n",
       "Talk on Skill and Employability Enhancement    379\n",
       "Skill and Employability Enhancement            318\n",
       "IS DATA SCIENCE FOR YOU?                       306\n",
       "Hello ML and DL                                261\n",
       "KYC - Know Your CCPC                           205\n",
       "IAC - Q&A                                      146\n",
       "The SDLC & their transformations               131\n",
       "Artificial Intelligence                        125\n",
       "The Agile Ways of Working                      121\n",
       "RPA: A Boon or A Bane                          114\n",
       "Product Marketing                              112\n",
       "Transformation with DevOps: The Easy Way        92\n",
       "Name: Events, dtype: int64"
      ]
     },
     "execution_count": 331,
     "metadata": {},
     "output_type": "execute_result"
    }
   ],
   "source": [
    "df['Events'].value_counts()"
   ]
  },
  {
   "cell_type": "markdown",
   "id": "77a065d0",
   "metadata": {},
   "source": [
    "- Product Design & Full Stack attracts more students from a specific field of study called full stack development in computer science.\n",
    "- Courses related to data science also attracts over a 1000 students."
   ]
  },
  {
   "cell_type": "markdown",
   "id": "9f163b0d",
   "metadata": {},
   "source": [
    "## Question 13: Do students in leadership positions during their college years tend to have higher GPAs or better expected salary?"
   ]
  },
  {
   "cell_type": "code",
   "execution_count": 297,
   "id": "bf8bf5b9",
   "metadata": {},
   "outputs": [
    {
     "name": "stderr",
     "output_type": "stream",
     "text": [
      "C:\\Users\\karth\\AppData\\Local\\Temp\\ipykernel_568\\341385838.py:1: FutureWarning: Indexing with multiple keys (implicitly converted to a tuple of keys) will be deprecated, use a list instead.\n",
      "  df17=df.groupby('Leadership- skills')['CGPA','Expected salary (Lac)'].mean().reset_index()\n"
     ]
    }
   ],
   "source": [
    "df17=df.groupby('Leadership- skills')['CGPA','Expected salary (Lac)'].mean().reset_index()\n",
    "df18=df17.sort_values(by='Leadership- skills',ascending=False)\n"
   ]
  },
  {
   "cell_type": "code",
   "execution_count": 298,
   "id": "056677ea",
   "metadata": {
    "scrolled": false
   },
   "outputs": [
    {
     "data": {
      "text/html": [
       "<div>\n",
       "<style scoped>\n",
       "    .dataframe tbody tr th:only-of-type {\n",
       "        vertical-align: middle;\n",
       "    }\n",
       "\n",
       "    .dataframe tbody tr th {\n",
       "        vertical-align: top;\n",
       "    }\n",
       "\n",
       "    .dataframe thead th {\n",
       "        text-align: right;\n",
       "    }\n",
       "</style>\n",
       "<table border=\"1\" class=\"dataframe\">\n",
       "  <thead>\n",
       "    <tr style=\"text-align: right;\">\n",
       "      <th></th>\n",
       "      <th>Leadership- skills</th>\n",
       "      <th>CGPA</th>\n",
       "      <th>Expected salary (Lac)</th>\n",
       "    </tr>\n",
       "  </thead>\n",
       "  <tbody>\n",
       "    <tr>\n",
       "      <th>1</th>\n",
       "      <td>yes</td>\n",
       "      <td>8.035247</td>\n",
       "      <td>13.995062</td>\n",
       "    </tr>\n",
       "    <tr>\n",
       "      <th>0</th>\n",
       "      <td>no</td>\n",
       "      <td>8.040783</td>\n",
       "      <td>13.936190</td>\n",
       "    </tr>\n",
       "  </tbody>\n",
       "</table>\n",
       "</div>"
      ],
      "text/plain": [
       "  Leadership- skills      CGPA  Expected salary (Lac)\n",
       "1                yes  8.035247              13.995062\n",
       "0                 no  8.040783              13.936190"
      ]
     },
     "execution_count": 298,
     "metadata": {},
     "output_type": "execute_result"
    }
   ],
   "source": [
    "df18"
   ]
  },
  {
   "cell_type": "code",
   "execution_count": 299,
   "id": "7ddcae9c",
   "metadata": {},
   "outputs": [
    {
     "data": {
      "text/plain": [
       "<Axes: title={'center': 'Leadership-skills vs CGPA'}, xlabel='Leadership- skills'>"
      ]
     },
     "execution_count": 299,
     "metadata": {},
     "output_type": "execute_result"
    },
    {
     "data": {
      "image/png": "[encoded data removed]",
      "text/plain": [
       "<Figure size 640x480 with 1 Axes>"
      ]
     },
     "metadata": {},
     "output_type": "display_data"
    }
   ],
   "source": [
    "df18.plot(y='CGPA',x='Leadership- skills',kind='bar',ylim=[8,8.05],title='Leadership-skills vs CGPA')"
   ]
  },
  {
   "cell_type": "code",
   "execution_count": 304,
   "id": "6c16add8",
   "metadata": {},
   "outputs": [
    {
     "data": {
      "text/plain": [
       "<Axes: title={'center': 'Leadership-skills vs Expected Salary'}, xlabel='Leadership- skills'>"
      ]
     },
     "execution_count": 304,
     "metadata": {},
     "output_type": "execute_result"
    },
    {
     "data": {
      "image/png": "[encoded data removed]",
      "text/plain": [
       "<Figure size 640x480 with 1 Axes>"
      ]
     },
     "metadata": {},
     "output_type": "display_data"
    }
   ],
   "source": [
    "df18.plot(y='Expected salary (Lac)',x='Leadership- skills',kind='bar',ylim=[13,14.2],title='Leadership-skills vs Expected Salary')"
   ]
  },
  {
   "cell_type": "markdown",
   "id": "0b0e3a90",
   "metadata": {},
   "source": [
    "- From the 2 graphs we can infer that although people with leadership skills have lower CGPA they tend to get higher packages"
   ]
  },
  {
   "cell_type": "markdown",
   "id": "88586eff",
   "metadata": {},
   "source": [
    "## Question 14: How many students are graduating by the end of 2024?"
   ]
  },
  {
   "cell_type": "code",
   "execution_count": 305,
   "id": "78832d76",
   "metadata": {},
   "outputs": [
    {
     "data": {
      "text/plain": [
       "Index(['First Name', 'Email ID', 'Quantity', 'Events', 'Attendee Status',\n",
       "       'College Name', 'How did you come to know about this event?',\n",
       "       'Specify in \"Others\" (how did you come to know about this event)',\n",
       "       'Designation', 'Year of Graduation', 'City', 'CGPA',\n",
       "       'Experience with python (Months)', 'Family Income',\n",
       "       'Expected salary (Lac)', 'Leadership- skills', 'Family Income in lakhs',\n",
       "       'frequency_group'],\n",
       "      dtype='object')"
      ]
     },
     "execution_count": 305,
     "metadata": {},
     "output_type": "execute_result"
    }
   ],
   "source": [
    "df.columns"
   ]
  },
  {
   "cell_type": "code",
   "execution_count": 308,
   "id": "8fdf025a",
   "metadata": {},
   "outputs": [
    {
     "data": {
      "text/plain": [
       "2023    1525\n",
       "2024    1499\n",
       "2025    1288\n",
       "2026     552\n",
       "Name: Year of Graduation, dtype: int64"
      ]
     },
     "execution_count": 308,
     "metadata": {},
     "output_type": "execute_result"
    }
   ],
   "source": [
    "df['Year of Graduation'].value_counts()"
   ]
  },
  {
   "cell_type": "markdown",
   "id": "8d3a52bf",
   "metadata": {},
   "source": [
    "- 1499 students are graduating by the end of 2024"
   ]
  },
  {
   "cell_type": "markdown",
   "id": "f7eb00a6",
   "metadata": {},
   "source": [
    "## Question 15: Which promotion channel brings in more student participations for the event?"
   ]
  },
  {
   "cell_type": "code",
   "execution_count": 316,
   "id": "70db5cb9",
   "metadata": {},
   "outputs": [],
   "source": [
    "data=pd.DataFrame(df['How did you come to know about this event?'].value_counts())\n"
   ]
  },
  {
   "cell_type": "code",
   "execution_count": 324,
   "id": "f91cb36d",
   "metadata": {},
   "outputs": [
    {
     "data": {
      "text/html": [
       "<div>\n",
       "<style scoped>\n",
       "    .dataframe tbody tr th:only-of-type {\n",
       "        vertical-align: middle;\n",
       "    }\n",
       "\n",
       "    .dataframe tbody tr th {\n",
       "        vertical-align: top;\n",
       "    }\n",
       "\n",
       "    .dataframe thead th {\n",
       "        text-align: right;\n",
       "    }\n",
       "</style>\n",
       "<table border=\"1\" class=\"dataframe\">\n",
       "  <thead>\n",
       "    <tr style=\"text-align: right;\">\n",
       "      <th></th>\n",
       "      <th>How did you come to know about this event?</th>\n",
       "    </tr>\n",
       "  </thead>\n",
       "  <tbody>\n",
       "    <tr>\n",
       "      <th>Whatsapp</th>\n",
       "      <td>3275</td>\n",
       "    </tr>\n",
       "    <tr>\n",
       "      <th>Email</th>\n",
       "      <td>425</td>\n",
       "    </tr>\n",
       "    <tr>\n",
       "      <th>SPOC/ College Professor</th>\n",
       "      <td>325</td>\n",
       "    </tr>\n",
       "    <tr>\n",
       "      <th>Others</th>\n",
       "      <td>152</td>\n",
       "    </tr>\n",
       "    <tr>\n",
       "      <th>Cloud Counselage Website</th>\n",
       "      <td>128</td>\n",
       "    </tr>\n",
       "    <tr>\n",
       "      <th>Whatsapp | SPOC/ College Professor</th>\n",
       "      <td>67</td>\n",
       "    </tr>\n",
       "    <tr>\n",
       "      <th>LinkedIn</th>\n",
       "      <td>55</td>\n",
       "    </tr>\n",
       "    <tr>\n",
       "      <th>Facebook</th>\n",
       "      <td>48</td>\n",
       "    </tr>\n",
       "    <tr>\n",
       "      <th>Youtube</th>\n",
       "      <td>37</td>\n",
       "    </tr>\n",
       "    <tr>\n",
       "      <th>Friend/ Classmate</th>\n",
       "      <td>30</td>\n",
       "    </tr>\n",
       "  </tbody>\n",
       "</table>\n",
       "</div>"
      ],
      "text/plain": [
       "                                    How did you come to know about this event?\n",
       "Whatsapp                                                                  3275\n",
       "Email                                                                      425\n",
       "SPOC/ College Professor                                                    325\n",
       "Others                                                                     152\n",
       "Cloud Counselage Website                                                   128\n",
       "Whatsapp | SPOC/ College Professor                                          67\n",
       "LinkedIn                                                                    55\n",
       "Facebook                                                                    48\n",
       "Youtube                                                                     37\n",
       "Friend/ Classmate                                                           30"
      ]
     },
     "execution_count": 324,
     "metadata": {},
     "output_type": "execute_result"
    }
   ],
   "source": [
    "data.head(10)"
   ]
  },
  {
   "cell_type": "markdown",
   "id": "e8c8bbbe",
   "metadata": {},
   "source": [
    "- Whatsapp brings brings in the most participants"
   ]
  },
  {
   "cell_type": "markdown",
   "id": "1c6781b9",
   "metadata": {},
   "source": [
    "## Question 16: Find the total number of students attending data science related events"
   ]
  },
  {
   "cell_type": "code",
   "execution_count": 326,
   "id": "153b602b",
   "metadata": {},
   "outputs": [
    {
     "data": {
      "text/plain": [
       "Product Design & Full Stack                    842\n",
       "Internship Program(IP) Success Conclave        796\n",
       "Art of Resume Building                         470\n",
       "Data Visualization using Power BI              446\n",
       "Talk on Skill and Employability Enhancement    379\n",
       "Skill and Employability Enhancement            318\n",
       "IS DATA SCIENCE FOR YOU?                       306\n",
       "Hello ML and DL                                261\n",
       "KYC - Know Your CCPC                           205\n",
       "IAC - Q&A                                      146\n",
       "The SDLC & their transformations               131\n",
       "Artificial Intelligence                        125\n",
       "The Agile Ways of Working                      121\n",
       "RPA: A Boon or A Bane                          114\n",
       "Product Marketing                              112\n",
       "Transformation with DevOps: The Easy Way        92\n",
       "Name: Events, dtype: int64"
      ]
     },
     "execution_count": 326,
     "metadata": {},
     "output_type": "execute_result"
    }
   ],
   "source": [
    "df['Events'].value_counts()"
   ]
  },
  {
   "cell_type": "code",
   "execution_count": 327,
   "id": "8bc28117",
   "metadata": {},
   "outputs": [],
   "source": [
    "d_eve=df['Events'].value_counts()"
   ]
  },
  {
   "cell_type": "markdown",
   "id": "5f088e8f",
   "metadata": {},
   "source": [
    "### I am asuming Data Visualization using Power BI , IS DATA SCIENCE FOR YOU?, Hello ML and DL and Artificial Intelligence  come under Data science."
   ]
  },
  {
   "cell_type": "code",
   "execution_count": 330,
   "id": "f8354945",
   "metadata": {},
   "outputs": [
    {
     "name": "stdout",
     "output_type": "stream",
     "text": [
      "Total number of students attending data science related events is 1138\n"
     ]
    }
   ],
   "source": [
    "total_students_ds=d_eve[3]+d_eve[6]+d_eve[7]+d_eve[11]\n",
    "print('Total number of students attending data science related events is', total_students_ds)"
   ]
  },
  {
   "cell_type": "markdown",
   "id": "7abc3037",
   "metadata": {},
   "source": [
    "## Question 18: How many students know about the event from their colleges? Which of these Top 5 colleges?\n"
   ]
  },
  {
   "cell_type": "code",
   "execution_count": 337,
   "id": "df795f9e",
   "metadata": {},
   "outputs": [
    {
     "name": "stdout",
     "output_type": "stream",
     "text": [
      "No of students who know about the event from college is 4846\n"
     ]
    }
   ],
   "source": [
    "print('No of students who know about the event from college is',df['Specify in \"Others\" (how did you come to know about this event)'].value_counts()[0])"
   ]
  },
  {
   "cell_type": "code",
   "execution_count": 363,
   "id": "04467b40",
   "metadata": {},
   "outputs": [
    {
     "data": {
      "text/plain": [
       "College Name\n",
       "A. C. Patil College of Engineering                                                37\n",
       "ADHIYAMAAN COLLEGE OF ENGINEERING                                                 22\n",
       "AP SHAH INSTITUTE OF TECHNOLOGY                                                    6\n",
       "B. K. Birla College of Arts, Science & Commerce (Autonomous), Kalyan              39\n",
       "CHHATTISGARH SWAMI VIVEKANANDA TECHNICAL UNIVERSITY TEACHING DEPARTMENT BHILAI    22\n",
       "Name: Specify in \"Others\" (how did you come to know about this event), dtype: int64"
      ]
     },
     "execution_count": 363,
     "metadata": {},
     "output_type": "execute_result"
    }
   ],
   "source": [
    "df22=df.groupby('College Name')['Specify in \"Others\" (how did you come to know about this event)'].count()\n",
    "df22.head()"
   ]
  },
  {
   "cell_type": "code",
   "execution_count": 365,
   "id": "c15b225b",
   "metadata": {},
   "outputs": [
    {
     "data": {
      "text/plain": [
       "College Name\n",
       "priyadarshini college of engineering, nagpur                            261\n",
       "vidyalankar institute of technology, mumbai                             258\n",
       "ld college of engineering, ahmedabad, gujarat                           247\n",
       "b. k. birla college of arts, science & commerce (autonomous), kalyan    205\n",
       "government polytechnic gandhinagar                                      205\n",
       "Name: Specify in \"Others\" (how did you come to know about this event), dtype: int64"
      ]
     },
     "execution_count": 365,
     "metadata": {},
     "output_type": "execute_result"
    }
   ],
   "source": [
    "df23=df22.sort_values(ascending=False)\n",
    "df23.head()\n"
   ]
  },
  {
   "cell_type": "code",
   "execution_count": 372,
   "id": "b50b9ade",
   "metadata": {},
   "outputs": [
    {
     "data": {
      "text/html": [
       "<div>\n",
       "<style scoped>\n",
       "    .dataframe tbody tr th:only-of-type {\n",
       "        vertical-align: middle;\n",
       "    }\n",
       "\n",
       "    .dataframe tbody tr th {\n",
       "        vertical-align: top;\n",
       "    }\n",
       "\n",
       "    .dataframe thead th {\n",
       "        text-align: right;\n",
       "    }\n",
       "</style>\n",
       "<table border=\"1\" class=\"dataframe\">\n",
       "  <thead>\n",
       "    <tr style=\"text-align: right;\">\n",
       "      <th></th>\n",
       "      <th>Specify in \"Others\" (how did you come to know about this event)</th>\n",
       "    </tr>\n",
       "    <tr>\n",
       "      <th>College Name</th>\n",
       "      <th></th>\n",
       "    </tr>\n",
       "  </thead>\n",
       "  <tbody>\n",
       "    <tr>\n",
       "      <th>priyadarshini college of engineering, nagpur</th>\n",
       "      <td>261</td>\n",
       "    </tr>\n",
       "    <tr>\n",
       "      <th>vidyalankar institute of technology, mumbai</th>\n",
       "      <td>258</td>\n",
       "    </tr>\n",
       "    <tr>\n",
       "      <th>ld college of engineering, ahmedabad, gujarat</th>\n",
       "      <td>247</td>\n",
       "    </tr>\n",
       "    <tr>\n",
       "      <th>b. k. birla college of arts, science &amp; commerce (autonomous), kalyan</th>\n",
       "      <td>205</td>\n",
       "    </tr>\n",
       "    <tr>\n",
       "      <th>government polytechnic gandhinagar</th>\n",
       "      <td>205</td>\n",
       "    </tr>\n",
       "  </tbody>\n",
       "</table>\n",
       "</div>"
      ],
      "text/plain": [
       "                                                    Specify in \"Others\" (how did you come to know about this event)\n",
       "College Name                                                                                                       \n",
       "priyadarshini college of engineering, nagpur                                                      261              \n",
       "vidyalankar institute of technology, mumbai                                                       258              \n",
       "ld college of engineering, ahmedabad, gujarat                                                     247              \n",
       "b. k. birla college of arts, science & commerce...                                                205              \n",
       "government polytechnic gandhinagar                                                                205              "
      ]
     },
     "execution_count": 372,
     "metadata": {},
     "output_type": "execute_result"
    }
   ],
   "source": [
    "df24=pd.DataFrame(df23)\n",
    "df24.head()"
   ]
  },
  {
   "cell_type": "code",
   "execution_count": 381,
   "id": "be58ca8d",
   "metadata": {},
   "outputs": [
    {
     "data": {
      "text/plain": [
       "<Axes: title={'center': 'Top 5 colleges where event information was conveyed'}, xlabel='College Name'>"
      ]
     },
     "execution_count": 381,
     "metadata": {},
     "output_type": "execute_result"
    },
    {
     "data": {
      "image/png": "[encoded data removed]",
      "text/plain": [
       "<Figure size 640x480 with 1 Axes>"
      ]
     },
     "metadata": {},
     "output_type": "display_data"
    }
   ],
   "source": [
    "df24.head().plot( y='Specify in \"Others\" (how did you come to know about this event)',kind='bar', ylim=[100,400], title='Top 5 colleges where event information was conveyed')"
   ]
  },
  {
   "cell_type": "code",
   "execution_count": null,
   "id": "e9f39602",
   "metadata": {},
   "outputs": [],
   "source": []
  }
 ],
 "metadata": {
  "kernelspec": {
   "display_name": "Python 3 (ipykernel)",
   "language": "python",
   "name": "python3"
  },
  "language_info": {
   "codemirror_mode": {
    "name": "ipython",
    "version": 3
   },
   "file_extension": ".py",
   "mimetype": "text/x-python",
   "name": "python",
   "nbconvert_exporter": "python",
   "pygments_lexer": "ipython3",
   "version": "3.11.4"
  }
 },
 "nbformat": 4,
 "nbformat_minor": 5
}
